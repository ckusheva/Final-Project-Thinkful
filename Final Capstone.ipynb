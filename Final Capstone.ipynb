{
 "cells": [
  {
   "cell_type": "markdown",
   "metadata": {},
   "source": [
    "## Predicting the effects of U.S. Meat Export Industry on the Environment"
   ]
  },
  {
   "cell_type": "markdown",
   "metadata": {},
   "source": [
    "### A time-series analysis of U.S Livestock and Meat Exports worldwide\n",
    "#### Kristin Kusheva\n",
    "#### 14th Oct 2019\n"
   ]
  },
  {
   "cell_type": "markdown",
   "metadata": {},
   "source": [
    "###### Loading the data"
   ]
  },
  {
   "cell_type": "code",
   "execution_count": 1,
   "metadata": {},
   "outputs": [
    {
     "data": {
      "text/html": [
       "<div>\n",
       "<style scoped>\n",
       "    .dataframe tbody tr th:only-of-type {\n",
       "        vertical-align: middle;\n",
       "    }\n",
       "\n",
       "    .dataframe tbody tr th {\n",
       "        vertical-align: top;\n",
       "    }\n",
       "\n",
       "    .dataframe thead th {\n",
       "        text-align: right;\n",
       "    }\n",
       "</style>\n",
       "<table border=\"1\" class=\"dataframe\">\n",
       "  <thead>\n",
       "    <tr style=\"text-align: right;\">\n",
       "      <th></th>\n",
       "      <th>SOURCE_ID</th>\n",
       "      <th>HS_CODE</th>\n",
       "      <th>COMMODITY_DESC</th>\n",
       "      <th>GEOGRAPHY_CODE</th>\n",
       "      <th>GEOGRAPHY_DESC</th>\n",
       "      <th>ATTRIBUTE_DESC</th>\n",
       "      <th>UNIT_DESC</th>\n",
       "      <th>YEAR_ID</th>\n",
       "      <th>TIMEPERIOD_ID</th>\n",
       "      <th>AMOUNT</th>\n",
       "    </tr>\n",
       "  </thead>\n",
       "  <tbody>\n",
       "    <tr>\n",
       "      <th>0</th>\n",
       "      <td>63</td>\n",
       "      <td>102900000.0</td>\n",
       "      <td>Bovine animals, live, nesoi</td>\n",
       "      <td>2150</td>\n",
       "      <td>Honduras</td>\n",
       "      <td>US Export, QTY</td>\n",
       "      <td>NO</td>\n",
       "      <td>1996</td>\n",
       "      <td>12</td>\n",
       "      <td>5.0</td>\n",
       "    </tr>\n",
       "    <tr>\n",
       "      <th>1</th>\n",
       "      <td>63</td>\n",
       "      <td>102900000.0</td>\n",
       "      <td>Bovine animals, live, nesoi</td>\n",
       "      <td>2190</td>\n",
       "      <td>Nicaragua</td>\n",
       "      <td>US Export, QTY</td>\n",
       "      <td>NO</td>\n",
       "      <td>2000</td>\n",
       "      <td>2</td>\n",
       "      <td>90.0</td>\n",
       "    </tr>\n",
       "    <tr>\n",
       "      <th>2</th>\n",
       "      <td>63</td>\n",
       "      <td>102900000.0</td>\n",
       "      <td>Bovine animals, live, nesoi</td>\n",
       "      <td>2250</td>\n",
       "      <td>Panama</td>\n",
       "      <td>US Export, QTY</td>\n",
       "      <td>NO</td>\n",
       "      <td>2001</td>\n",
       "      <td>11</td>\n",
       "      <td>12.0</td>\n",
       "    </tr>\n",
       "    <tr>\n",
       "      <th>3</th>\n",
       "      <td>63</td>\n",
       "      <td>102900000.0</td>\n",
       "      <td>Bovine animals, live, nesoi</td>\n",
       "      <td>2250</td>\n",
       "      <td>Panama</td>\n",
       "      <td>US Export, QTY</td>\n",
       "      <td>NO</td>\n",
       "      <td>2008</td>\n",
       "      <td>10</td>\n",
       "      <td>12.0</td>\n",
       "    </tr>\n",
       "    <tr>\n",
       "      <th>4</th>\n",
       "      <td>63</td>\n",
       "      <td>102900000.0</td>\n",
       "      <td>Bovine animals, live, nesoi</td>\n",
       "      <td>2320</td>\n",
       "      <td>Bermuda</td>\n",
       "      <td>US Export, QTY</td>\n",
       "      <td>NO</td>\n",
       "      <td>2007</td>\n",
       "      <td>4</td>\n",
       "      <td>49.0</td>\n",
       "    </tr>\n",
       "  </tbody>\n",
       "</table>\n",
       "</div>"
      ],
      "text/plain": [
       "   SOURCE_ID      HS_CODE               COMMODITY_DESC   GEOGRAPHY_CODE  \\\n",
       "0         63  102900000.0  Bovine animals, live, nesoi             2150   \n",
       "1         63  102900000.0  Bovine animals, live, nesoi             2190   \n",
       "2         63  102900000.0  Bovine animals, live, nesoi             2250   \n",
       "3         63  102900000.0  Bovine animals, live, nesoi             2250   \n",
       "4         63  102900000.0  Bovine animals, live, nesoi             2320   \n",
       "\n",
       "  GEOGRAPHY_DESC  ATTRIBUTE_DESC  UNIT_DESC   YEAR_ID   TIMEPERIOD_ID  AMOUNT  \n",
       "0       Honduras  US Export, QTY         NO      1996              12     5.0  \n",
       "1      Nicaragua  US Export, QTY         NO      2000               2    90.0  \n",
       "2         Panama  US Export, QTY         NO      2001              11    12.0  \n",
       "3         Panama  US Export, QTY         NO      2008              10    12.0  \n",
       "4        Bermuda  US Export, QTY         NO      2007               4    49.0  "
      ]
     },
     "execution_count": 1,
     "metadata": {},
     "output_type": "execute_result"
    }
   ],
   "source": [
    "import pandas as pd\n",
    "import matplotlib.pyplot as plt\n",
    "df = pd.read_csv('LivestockMeat_Exports.csv')\n",
    "df.head()"
   ]
  },
  {
   "cell_type": "markdown",
   "metadata": {},
   "source": [
    "###### Cleaning duplicates that are present in the data"
   ]
  },
  {
   "cell_type": "code",
   "execution_count": 2,
   "metadata": {},
   "outputs": [],
   "source": [
    "df.loc[df[' COMMODITY_DESC'] == 'Pork', ' HS_CODE']= df.loc[df[' COMMODITY_DESC'] == 'Pork', ' HS_CODE'].fillna(0)"
   ]
  },
  {
   "cell_type": "code",
   "execution_count": 3,
   "metadata": {},
   "outputs": [],
   "source": [
    "df1 = df.dropna(subset=[' HS_CODE'])"
   ]
  },
  {
   "cell_type": "code",
   "execution_count": 4,
   "metadata": {},
   "outputs": [
    {
     "data": {
      "text/html": [
       "<div>\n",
       "<style scoped>\n",
       "    .dataframe tbody tr th:only-of-type {\n",
       "        vertical-align: middle;\n",
       "    }\n",
       "\n",
       "    .dataframe tbody tr th {\n",
       "        vertical-align: top;\n",
       "    }\n",
       "\n",
       "    .dataframe thead th {\n",
       "        text-align: right;\n",
       "    }\n",
       "</style>\n",
       "<table border=\"1\" class=\"dataframe\">\n",
       "  <thead>\n",
       "    <tr style=\"text-align: right;\">\n",
       "      <th></th>\n",
       "      <th>SOURCE_ID</th>\n",
       "      <th>HS_CODE</th>\n",
       "      <th>COMMODITY_DESC</th>\n",
       "      <th>GEOGRAPHY_CODE</th>\n",
       "      <th>GEOGRAPHY_DESC</th>\n",
       "      <th>ATTRIBUTE_DESC</th>\n",
       "      <th>UNIT_DESC</th>\n",
       "      <th>YEAR_ID</th>\n",
       "      <th>TIMEPERIOD_ID</th>\n",
       "      <th>AMOUNT</th>\n",
       "    </tr>\n",
       "  </thead>\n",
       "  <tbody>\n",
       "  </tbody>\n",
       "</table>\n",
       "</div>"
      ],
      "text/plain": [
       "Empty DataFrame\n",
       "Columns: [SOURCE_ID,  HS_CODE,  COMMODITY_DESC,  GEOGRAPHY_CODE, GEOGRAPHY_DESC,  ATTRIBUTE_DESC,  UNIT_DESC,  YEAR_ID,  TIMEPERIOD_ID, AMOUNT]\n",
       "Index: []"
      ]
     },
     "execution_count": 4,
     "metadata": {},
     "output_type": "execute_result"
    }
   ],
   "source": [
    "df1[df1[' HS_CODE'].isnull()]\n"
   ]
  },
  {
   "cell_type": "code",
   "execution_count": 5,
   "metadata": {},
   "outputs": [],
   "source": [
    "df_final = df1.loc[:, (df1.columns).isin([' COMMODITY_DESC', 'GEOGRAPHY_DESC',\n",
    "                                          ' YEAR_ID', ' TIMEPERIOD_ID', 'AMOUNT', ' UNIT_DESC'])]"
   ]
  },
  {
   "cell_type": "code",
   "execution_count": 6,
   "metadata": {},
   "outputs": [],
   "source": [
    "group_by =  df_final.loc[df_final.groupby([' COMMODITY_DESC', ' YEAR_ID',\n",
    "                                           ' TIMEPERIOD_ID', 'GEOGRAPHY_DESC'])['AMOUNT'].idxmax()]\n",
    "df_final_final = df_final.loc[group_by.index, :]"
   ]
  },
  {
   "cell_type": "markdown",
   "metadata": {},
   "source": [
    "Cleaning the commodity description and perform checks to ensure that the new data looks good"
   ]
  },
  {
   "cell_type": "code",
   "execution_count": 7,
   "metadata": {},
   "outputs": [
    {
     "data": {
      "text/plain": [
       "1160935    Beef Boneless Processed\n",
       "1161249    Beef Boneless Processed\n",
       "1160894    Beef Boneless Processed\n",
       "1155605    Beef Boneless Processed\n",
       "1155874    Beef Boneless Processed\n",
       "Name: Main_Desc, dtype: object"
      ]
     },
     "execution_count": 7,
     "metadata": {},
     "output_type": "execute_result"
    }
   ],
   "source": [
    "df_final_final['Main_Desc'] = df_final_final[' COMMODITY_DESC'].apply(lambda x: x.replace(\"\\'\", '').split(\",\")[0])\n",
    "df_final_final['Main_Desc'] = df_final_final['Main_Desc'].apply(lambda x: x.replace('*', ''))\n",
    "df_final_final['Main_Desc'].head()\n"
   ]
  },
  {
   "cell_type": "code",
   "execution_count": 8,
   "metadata": {},
   "outputs": [
    {
     "data": {
      "text/plain": [
       "424245"
      ]
     },
     "execution_count": 8,
     "metadata": {},
     "output_type": "execute_result"
    }
   ],
   "source": [
    "len(df_final_final)"
   ]
  },
  {
   "cell_type": "code",
   "execution_count": 9,
   "metadata": {},
   "outputs": [
    {
     "data": {
      "text/plain": [
       "914065"
      ]
     },
     "execution_count": 9,
     "metadata": {},
     "output_type": "execute_result"
    }
   ],
   "source": [
    "len(df_final)"
   ]
  },
  {
   "cell_type": "code",
   "execution_count": 10,
   "metadata": {},
   "outputs": [],
   "source": [
    "dff = df_final_final.drop(columns = ' COMMODITY_DESC')"
   ]
  },
  {
   "cell_type": "markdown",
   "metadata": {},
   "source": [
    "###### Converting all the amounts to be in the same unit of measurement - kilograms"
   ]
  },
  {
   "cell_type": "code",
   "execution_count": 11,
   "metadata": {},
   "outputs": [],
   "source": [
    "def conversion(row):\n",
    "    if row[' UNIT_DESC'] == 'CWE':\n",
    "        return row['AMOUNT'] * 0.45 *0.5 \n",
    "    elif row[' UNIT_DESC'] == 'DOZ':\n",
    "        return row['AMOUNT']*0.7\n",
    "    elif row[' UNIT_DESC'] == 'NO':\n",
    "        if row['Main_Desc'] == 'Bovine animals':\n",
    "            return row['AMOUNT']*395\n",
    "        elif row['Main_Desc'] == 'Cattle':\n",
    "            return row['AMOUNT']*275\n",
    "        elif row['Main_Desc'] == 'Goats':\n",
    "            return row['AMOUNT']*70\n",
    "        elif row['Main_Desc'] == 'Swine':\n",
    "            return row['AMOUNT']*200\n",
    "        elif row['Main_Desc'] == 'Sheep':\n",
    "            return row['AMOUNT']*75 \n",
    "    return row['AMOUNT']"
   ]
  },
  {
   "cell_type": "code",
   "execution_count": 12,
   "metadata": {},
   "outputs": [],
   "source": [
    "dff['Final_amount'] = dff.apply(lambda x: conversion(x), axis=1 )"
   ]
  },
  {
   "cell_type": "markdown",
   "metadata": {},
   "source": [
    "###### Employing machine learning NLP lemmatising techniques to transform each commodity description into a more simplified commodity in order to clean the data so it will be suitable for aggregation."
   ]
  },
  {
   "cell_type": "code",
   "execution_count": 13,
   "metadata": {},
   "outputs": [
    {
     "name": "stderr",
     "output_type": "stream",
     "text": [
      "[nltk_data] Downloading package averaged_perceptron_tagger to\n",
      "[nltk_data]     C:\\Users\\Kristine\\AppData\\Roaming\\nltk_data...\n",
      "[nltk_data]   Package averaged_perceptron_tagger is already up-to-\n",
      "[nltk_data]       date!\n",
      "[nltk_data] Downloading package wordnet to\n",
      "[nltk_data]     C:\\Users\\Kristine\\AppData\\Roaming\\nltk_data...\n",
      "[nltk_data]   Package wordnet is already up-to-date!\n"
     ]
    }
   ],
   "source": [
    "import nltk\n",
    "nltk.download('averaged_perceptron_tagger')\n",
    "nltk.download('wordnet')\n",
    "from nltk.stem import WordNetLemmatizer \n",
    "from nltk.stem.wordnet import WordNetLemmatizer\n",
    "from nltk.corpus import wordnet\n"
   ]
  },
  {
   "cell_type": "code",
   "execution_count": 14,
   "metadata": {},
   "outputs": [],
   "source": [
    "def replace_ (column):\n",
    "    '''\n",
    "    This function will extract the noun (for example: beef, pork) from commodity description\n",
    "    It uses nltk lemmatizer and get the first noun from the text\n",
    "    If noun is swine, return pork or if bird, return chicken\n",
    "    Returns the originial text if no noun is found\n",
    "    \n",
    "    '''\n",
    "    tokens = nltk.word_tokenize(column.lower())\n",
    "    lemmatizer = WordNetLemmatizer() \n",
    "    lemma = [lemmatizer.lemmatize(word, wordnet.NOUN) for word in tokens] \n",
    "    tagged = nltk.pos_tag(lemma)\n",
    "    noun = [x[0] for x in tagged if x[1] == 'NN' or  x[1] =='NNS']\n",
    "    if noun:\n",
    "        if noun[0] == 'meat' and len(noun) > 1:\n",
    "            temp = noun[1]\n",
    "        else:\n",
    "            temp = noun[0]\n",
    "    else:\n",
    "         temp = column\n",
    "    if temp == 'swine': \n",
    "         return 'pork'\n",
    "    if temp == 'bird':\n",
    "        return 'chicken'\n",
    "    return temp"
   ]
  },
  {
   "cell_type": "code",
   "execution_count": 15,
   "metadata": {},
   "outputs": [
    {
     "data": {
      "text/html": [
       "<div>\n",
       "<style scoped>\n",
       "    .dataframe tbody tr th:only-of-type {\n",
       "        vertical-align: middle;\n",
       "    }\n",
       "\n",
       "    .dataframe tbody tr th {\n",
       "        vertical-align: top;\n",
       "    }\n",
       "\n",
       "    .dataframe thead th {\n",
       "        text-align: right;\n",
       "    }\n",
       "</style>\n",
       "<table border=\"1\" class=\"dataframe\">\n",
       "  <thead>\n",
       "    <tr style=\"text-align: right;\">\n",
       "      <th></th>\n",
       "      <th>GEOGRAPHY_DESC</th>\n",
       "      <th>UNIT_DESC</th>\n",
       "      <th>YEAR_ID</th>\n",
       "      <th>TIMEPERIOD_ID</th>\n",
       "      <th>AMOUNT</th>\n",
       "      <th>Main_Desc</th>\n",
       "      <th>Final_amount</th>\n",
       "      <th>Nouns</th>\n",
       "    </tr>\n",
       "  </thead>\n",
       "  <tbody>\n",
       "    <tr>\n",
       "      <th>1160935</th>\n",
       "      <td>Antigua &amp; Barbuda</td>\n",
       "      <td>CWE</td>\n",
       "      <td>1989</td>\n",
       "      <td>1</td>\n",
       "      <td>2315.419467</td>\n",
       "      <td>Beef Boneless Processed</td>\n",
       "      <td>520.969380</td>\n",
       "      <td>beef</td>\n",
       "    </tr>\n",
       "    <tr>\n",
       "      <th>1161249</th>\n",
       "      <td>Austria</td>\n",
       "      <td>CWE</td>\n",
       "      <td>1989</td>\n",
       "      <td>1</td>\n",
       "      <td>10750.161813</td>\n",
       "      <td>Beef Boneless Processed</td>\n",
       "      <td>2418.786408</td>\n",
       "      <td>beef</td>\n",
       "    </tr>\n",
       "    <tr>\n",
       "      <th>1160894</th>\n",
       "      <td>Bahamas</td>\n",
       "      <td>CWE</td>\n",
       "      <td>1989</td>\n",
       "      <td>1</td>\n",
       "      <td>6925.209134</td>\n",
       "      <td>Beef Boneless Processed</td>\n",
       "      <td>1558.172055</td>\n",
       "      <td>beef</td>\n",
       "    </tr>\n",
       "    <tr>\n",
       "      <th>1155605</th>\n",
       "      <td>Bermuda</td>\n",
       "      <td>CWE</td>\n",
       "      <td>1989</td>\n",
       "      <td>1</td>\n",
       "      <td>9261.677870</td>\n",
       "      <td>Beef Boneless Processed</td>\n",
       "      <td>2083.877521</td>\n",
       "      <td>beef</td>\n",
       "    </tr>\n",
       "    <tr>\n",
       "      <th>1155874</th>\n",
       "      <td>British Virgin Islands</td>\n",
       "      <td>CWE</td>\n",
       "      <td>1989</td>\n",
       "      <td>1</td>\n",
       "      <td>1130.646389</td>\n",
       "      <td>Beef Boneless Processed</td>\n",
       "      <td>254.395438</td>\n",
       "      <td>beef</td>\n",
       "    </tr>\n",
       "  </tbody>\n",
       "</table>\n",
       "</div>"
      ],
      "text/plain": [
       "                 GEOGRAPHY_DESC  UNIT_DESC   YEAR_ID   TIMEPERIOD_ID  \\\n",
       "1160935       Antigua & Barbuda        CWE      1989               1   \n",
       "1161249                 Austria        CWE      1989               1   \n",
       "1160894                 Bahamas        CWE      1989               1   \n",
       "1155605                 Bermuda        CWE      1989               1   \n",
       "1155874  British Virgin Islands        CWE      1989               1   \n",
       "\n",
       "               AMOUNT                Main_Desc  Final_amount Nouns  \n",
       "1160935   2315.419467  Beef Boneless Processed    520.969380  beef  \n",
       "1161249  10750.161813  Beef Boneless Processed   2418.786408  beef  \n",
       "1160894   6925.209134  Beef Boneless Processed   1558.172055  beef  \n",
       "1155605   9261.677870  Beef Boneless Processed   2083.877521  beef  \n",
       "1155874   1130.646389  Beef Boneless Processed    254.395438  beef  "
      ]
     },
     "execution_count": 15,
     "metadata": {},
     "output_type": "execute_result"
    }
   ],
   "source": [
    "dff['Nouns'] = dff['Main_Desc'].apply(lambda x: replace_(x))\n",
    "dff.head()\n",
    "\n"
   ]
  },
  {
   "cell_type": "code",
   "execution_count": 16,
   "metadata": {},
   "outputs": [
    {
     "data": {
      "text/html": [
       "<div>\n",
       "<style scoped>\n",
       "    .dataframe tbody tr th:only-of-type {\n",
       "        vertical-align: middle;\n",
       "    }\n",
       "\n",
       "    .dataframe tbody tr th {\n",
       "        vertical-align: top;\n",
       "    }\n",
       "\n",
       "    .dataframe thead th {\n",
       "        text-align: right;\n",
       "    }\n",
       "</style>\n",
       "<table border=\"1\" class=\"dataframe\">\n",
       "  <thead>\n",
       "    <tr style=\"text-align: right;\">\n",
       "      <th></th>\n",
       "      <th>GEOGRAPHY_DESC</th>\n",
       "      <th>UNIT_DESC</th>\n",
       "      <th>YEAR_ID</th>\n",
       "      <th>TIMEPERIOD_ID</th>\n",
       "      <th>AMOUNT</th>\n",
       "      <th>Main_Desc</th>\n",
       "      <th>Final_amount</th>\n",
       "      <th>Nouns</th>\n",
       "    </tr>\n",
       "  </thead>\n",
       "  <tbody>\n",
       "    <tr>\n",
       "      <th>1160935</th>\n",
       "      <td>Antigua &amp; Barbuda</td>\n",
       "      <td>CWE</td>\n",
       "      <td>1989</td>\n",
       "      <td>1</td>\n",
       "      <td>2315.419467</td>\n",
       "      <td>Beef Boneless Processed</td>\n",
       "      <td>520.969380</td>\n",
       "      <td>beef</td>\n",
       "    </tr>\n",
       "    <tr>\n",
       "      <th>1161249</th>\n",
       "      <td>Austria</td>\n",
       "      <td>CWE</td>\n",
       "      <td>1989</td>\n",
       "      <td>1</td>\n",
       "      <td>10750.161813</td>\n",
       "      <td>Beef Boneless Processed</td>\n",
       "      <td>2418.786408</td>\n",
       "      <td>beef</td>\n",
       "    </tr>\n",
       "    <tr>\n",
       "      <th>1160894</th>\n",
       "      <td>Bahamas</td>\n",
       "      <td>CWE</td>\n",
       "      <td>1989</td>\n",
       "      <td>1</td>\n",
       "      <td>6925.209134</td>\n",
       "      <td>Beef Boneless Processed</td>\n",
       "      <td>1558.172055</td>\n",
       "      <td>beef</td>\n",
       "    </tr>\n",
       "    <tr>\n",
       "      <th>1155605</th>\n",
       "      <td>Bermuda</td>\n",
       "      <td>CWE</td>\n",
       "      <td>1989</td>\n",
       "      <td>1</td>\n",
       "      <td>9261.677870</td>\n",
       "      <td>Beef Boneless Processed</td>\n",
       "      <td>2083.877521</td>\n",
       "      <td>beef</td>\n",
       "    </tr>\n",
       "    <tr>\n",
       "      <th>1155874</th>\n",
       "      <td>British Virgin Islands</td>\n",
       "      <td>CWE</td>\n",
       "      <td>1989</td>\n",
       "      <td>1</td>\n",
       "      <td>1130.646389</td>\n",
       "      <td>Beef Boneless Processed</td>\n",
       "      <td>254.395438</td>\n",
       "      <td>beef</td>\n",
       "    </tr>\n",
       "  </tbody>\n",
       "</table>\n",
       "</div>"
      ],
      "text/plain": [
       "                 GEOGRAPHY_DESC  UNIT_DESC   YEAR_ID   TIMEPERIOD_ID  \\\n",
       "1160935       Antigua & Barbuda        CWE      1989               1   \n",
       "1161249                 Austria        CWE      1989               1   \n",
       "1160894                 Bahamas        CWE      1989               1   \n",
       "1155605                 Bermuda        CWE      1989               1   \n",
       "1155874  British Virgin Islands        CWE      1989               1   \n",
       "\n",
       "               AMOUNT                Main_Desc  Final_amount Nouns  \n",
       "1160935   2315.419467  Beef Boneless Processed    520.969380  beef  \n",
       "1161249  10750.161813  Beef Boneless Processed   2418.786408  beef  \n",
       "1160894   6925.209134  Beef Boneless Processed   1558.172055  beef  \n",
       "1155605   9261.677870  Beef Boneless Processed   2083.877521  beef  \n",
       "1155874   1130.646389  Beef Boneless Processed    254.395438  beef  "
      ]
     },
     "execution_count": 16,
     "metadata": {},
     "output_type": "execute_result"
    }
   ],
   "source": [
    "dff.head()"
   ]
  },
  {
   "cell_type": "markdown",
   "metadata": {},
   "source": [
    "###### Getting all data for country Bulgaria"
   ]
  },
  {
   "cell_type": "code",
   "execution_count": 17,
   "metadata": {},
   "outputs": [],
   "source": [
    "df_Bulgaria = dff[dff['GEOGRAPHY_DESC'] == 'Bulgaria']"
   ]
  },
  {
   "cell_type": "code",
   "execution_count": 18,
   "metadata": {},
   "outputs": [
    {
     "data": {
      "text/html": [
       "<div>\n",
       "<style scoped>\n",
       "    .dataframe tbody tr th:only-of-type {\n",
       "        vertical-align: middle;\n",
       "    }\n",
       "\n",
       "    .dataframe tbody tr th {\n",
       "        vertical-align: top;\n",
       "    }\n",
       "\n",
       "    .dataframe thead th {\n",
       "        text-align: right;\n",
       "    }\n",
       "</style>\n",
       "<table border=\"1\" class=\"dataframe\">\n",
       "  <thead>\n",
       "    <tr style=\"text-align: right;\">\n",
       "      <th></th>\n",
       "      <th>GEOGRAPHY_DESC</th>\n",
       "      <th>UNIT_DESC</th>\n",
       "      <th>YEAR_ID</th>\n",
       "      <th>TIMEPERIOD_ID</th>\n",
       "      <th>AMOUNT</th>\n",
       "      <th>Main_Desc</th>\n",
       "      <th>Final_amount</th>\n",
       "      <th>Nouns</th>\n",
       "    </tr>\n",
       "  </thead>\n",
       "  <tbody>\n",
       "    <tr>\n",
       "      <th>317698</th>\n",
       "      <td>Bulgaria</td>\n",
       "      <td>CWE</td>\n",
       "      <td>2019</td>\n",
       "      <td>3</td>\n",
       "      <td>47050.976585</td>\n",
       "      <td>Hams</td>\n",
       "      <td>10586.469732</td>\n",
       "      <td>ham</td>\n",
       "    </tr>\n",
       "    <tr>\n",
       "      <th>863163</th>\n",
       "      <td>Bulgaria</td>\n",
       "      <td>CWE</td>\n",
       "      <td>2019</td>\n",
       "      <td>3</td>\n",
       "      <td>47050.976585</td>\n",
       "      <td>Pork</td>\n",
       "      <td>10586.469732</td>\n",
       "      <td>pork</td>\n",
       "    </tr>\n",
       "  </tbody>\n",
       "</table>\n",
       "</div>"
      ],
      "text/plain": [
       "       GEOGRAPHY_DESC  UNIT_DESC   YEAR_ID   TIMEPERIOD_ID        AMOUNT  \\\n",
       "317698       Bulgaria        CWE      2019               3  47050.976585   \n",
       "863163       Bulgaria        CWE      2019               3  47050.976585   \n",
       "\n",
       "       Main_Desc  Final_amount Nouns  \n",
       "317698      Hams  10586.469732   ham  \n",
       "863163      Pork  10586.469732  pork  "
      ]
     },
     "execution_count": 18,
     "metadata": {},
     "output_type": "execute_result"
    }
   ],
   "source": [
    "df_Bulgaria[df_Bulgaria[' YEAR_ID'] == 2019]"
   ]
  },
  {
   "cell_type": "code",
   "execution_count": 19,
   "metadata": {},
   "outputs": [],
   "source": [
    "df_Bulgaria_agg =  df_Bulgaria.loc[:, (df_Bulgaria.columns).isin([' YEAR_ID', 'Final_amount'])]"
   ]
  },
  {
   "cell_type": "code",
   "execution_count": 20,
   "metadata": {},
   "outputs": [],
   "source": [
    "df_Bulgaria_agg1 = df_Bulgaria_agg.groupby([' YEAR_ID']).agg(sum).reset_index()"
   ]
  },
  {
   "cell_type": "code",
   "execution_count": 21,
   "metadata": {},
   "outputs": [],
   "source": [
    "df_Bulgaria_agg1 = df_Bulgaria_agg1.drop(df_Bulgaria_agg1.tail(1).index) "
   ]
  },
  {
   "cell_type": "markdown",
   "metadata": {},
   "source": [
    "###### Predicting US meat export to Bulgaria using ARIMA"
   ]
  },
  {
   "cell_type": "code",
   "execution_count": 22,
   "metadata": {},
   "outputs": [],
   "source": [
    "from pandas import Series\n",
    "from statsmodels.tsa.arima_model import ARIMA\n",
    "from statsmodels.tsa.arima_model import ARIMAResults"
   ]
  },
  {
   "cell_type": "code",
   "execution_count": 23,
   "metadata": {},
   "outputs": [
    {
     "name": "stdout",
     "output_type": "stream",
     "text": [
      "                              ARMA Model Results                              \n",
      "==============================================================================\n",
      "Dep. Variable:           Final_amount   No. Observations:                   23\n",
      "Model:                     ARMA(0, 2)   Log Likelihood                -376.177\n",
      "Method:                       css-mle   S.D. of innovations        3061935.210\n",
      "Date:                Sat, 12 Oct 2019   AIC                            760.354\n",
      "Time:                        18:28:25   BIC                            764.896\n",
      "Sample:                             0   HQIC                           761.496\n",
      "                                                                              \n",
      "======================================================================================\n",
      "                         coef    std err          z      P>|z|      [0.025      0.975]\n",
      "--------------------------------------------------------------------------------------\n",
      "const                2.24e+06   8.47e+05      2.645      0.016     5.8e+05     3.9e+06\n",
      "ma.L1.Final_amount     0.3044      0.205      1.484      0.153      -0.098       0.706\n",
      "ma.L2.Final_amount     0.0369      0.209      0.176      0.862      -0.373       0.447\n",
      "                                    Roots                                    \n",
      "=============================================================================\n",
      "                  Real          Imaginary           Modulus         Frequency\n",
      "-----------------------------------------------------------------------------\n",
      "MA.1           -4.1220           -3.1773j            5.2044           -0.3955\n",
      "MA.2           -4.1220           +3.1773j            5.2044            0.3955\n",
      "-----------------------------------------------------------------------------\n",
      "Residuals Description\n",
      "count    2.300000e+01\n",
      "mean    -2.168721e+04\n",
      "std      3.133791e+06\n",
      "min     -4.125084e+06\n",
      "25%     -1.650712e+06\n",
      "50%     -9.079167e+05\n",
      "75%      2.649313e+05\n",
      "max      1.183444e+07\n",
      "dtype: float64\n"
     ]
    }
   ],
   "source": [
    "model = ARIMA(df_Bulgaria_agg1['Final_amount'], order=(0,0,2))\n",
    "model_fit = model.fit()\n",
    "print(model_fit.summary())\n",
    "print('Residuals Description')\n",
    "print(model_fit.resid.describe())"
   ]
  },
  {
   "cell_type": "code",
   "execution_count": 24,
   "metadata": {},
   "outputs": [],
   "source": [
    "pred = model_fit.predict(len(df_Bulgaria_agg1['Final_amount']), len(df_Bulgaria_agg1['Final_amount']) + 2)"
   ]
  },
  {
   "cell_type": "code",
   "execution_count": 25,
   "metadata": {},
   "outputs": [
    {
     "data": {
      "text/plain": [
       "23    1.674825e+06\n",
       "24    2.178664e+06\n",
       "25    2.239824e+06\n",
       "dtype: float64"
      ]
     },
     "execution_count": 25,
     "metadata": {},
     "output_type": "execute_result"
    }
   ],
   "source": [
    "pred"
   ]
  },
  {
   "cell_type": "code",
   "execution_count": 26,
   "metadata": {},
   "outputs": [],
   "source": [
    "pred2 = pd.DataFrame(columns = [' YEAR_ID', 'Final_amount'])\n",
    "pred2['Final_amount'] = pred\n",
    "pred2[' YEAR_ID'] = range(2019,2022)\n",
    "\n"
   ]
  },
  {
   "cell_type": "code",
   "execution_count": 27,
   "metadata": {},
   "outputs": [
    {
     "data": {
      "text/html": [
       "<div>\n",
       "<style scoped>\n",
       "    .dataframe tbody tr th:only-of-type {\n",
       "        vertical-align: middle;\n",
       "    }\n",
       "\n",
       "    .dataframe tbody tr th {\n",
       "        vertical-align: top;\n",
       "    }\n",
       "\n",
       "    .dataframe thead th {\n",
       "        text-align: right;\n",
       "    }\n",
       "</style>\n",
       "<table border=\"1\" class=\"dataframe\">\n",
       "  <thead>\n",
       "    <tr style=\"text-align: right;\">\n",
       "      <th></th>\n",
       "      <th>YEAR_ID</th>\n",
       "      <th>Final_amount</th>\n",
       "    </tr>\n",
       "  </thead>\n",
       "  <tbody>\n",
       "    <tr>\n",
       "      <th>23</th>\n",
       "      <td>2019</td>\n",
       "      <td>1.674825e+06</td>\n",
       "    </tr>\n",
       "    <tr>\n",
       "      <th>24</th>\n",
       "      <td>2020</td>\n",
       "      <td>2.178664e+06</td>\n",
       "    </tr>\n",
       "    <tr>\n",
       "      <th>25</th>\n",
       "      <td>2021</td>\n",
       "      <td>2.239824e+06</td>\n",
       "    </tr>\n",
       "  </tbody>\n",
       "</table>\n",
       "</div>"
      ],
      "text/plain": [
       "     YEAR_ID  Final_amount\n",
       "23      2019  1.674825e+06\n",
       "24      2020  2.178664e+06\n",
       "25      2021  2.239824e+06"
      ]
     },
     "execution_count": 27,
     "metadata": {},
     "output_type": "execute_result"
    }
   ],
   "source": [
    "pred2"
   ]
  },
  {
   "cell_type": "code",
   "execution_count": 28,
   "metadata": {},
   "outputs": [
    {
     "data": {
      "text/plain": [
       "<matplotlib.axes._subplots.AxesSubplot at 0x20813378390>"
      ]
     },
     "execution_count": 28,
     "metadata": {},
     "output_type": "execute_result"
    },
    {
     "data": {
      "image/png": "[encoded data removed]",
      "text/plain": [
       "<Figure size 432x288 with 1 Axes>"
      ]
     },
     "metadata": {
      "needs_background": "light"
     },
     "output_type": "display_data"
    }
   ],
   "source": [
    "df_Bulgaria_agg1.index = df_Bulgaria_agg1[' YEAR_ID']\n",
    "pred2.index = pred2[' YEAR_ID']\n",
    "df_all = pd.merge(df_Bulgaria_agg1['Final_amount'], pred2['Final_amount'],\n",
    "                  how = 'outer', left_index=True, right_index=True)\n",
    "import math\n",
    "\n",
    "for i in df_all.index:\n",
    "    if math.isnan(df_all.loc[i, 'Final_amount_x']):\n",
    "        df_all.loc[i, 'Final_amount_x'] = df_all.loc[i, 'Final_amount_y']\n",
    "df_all.plot()"
   ]
  },
  {
   "cell_type": "code",
   "execution_count": 29,
   "metadata": {},
   "outputs": [],
   "source": [
    "df_lstm = df_Bulgaria_agg1.reset_index(drop = True)"
   ]
  },
  {
   "cell_type": "code",
   "execution_count": 30,
   "metadata": {},
   "outputs": [],
   "source": [
    "df_lstm = df_lstm.drop(columns = ' YEAR_ID')\n"
   ]
  },
  {
   "cell_type": "code",
   "execution_count": 31,
   "metadata": {},
   "outputs": [],
   "source": [
    "df_next5_ = pred2.drop(columns = ' YEAR_ID')"
   ]
  },
  {
   "cell_type": "code",
   "execution_count": 32,
   "metadata": {},
   "outputs": [],
   "source": [
    "df_lstm1 = pd.concat([df_lstm, df_next5_]).reset_index()"
   ]
  },
  {
   "cell_type": "code",
   "execution_count": 33,
   "metadata": {},
   "outputs": [],
   "source": [
    "df_lstm1 = df_lstm1.drop(columns = 'index')"
   ]
  },
  {
   "cell_type": "markdown",
   "metadata": {},
   "source": [
    "###### Predicting meat US export to Bulgaria using LSTM "
   ]
  },
  {
   "cell_type": "code",
   "execution_count": 34,
   "metadata": {},
   "outputs": [
    {
     "name": "stderr",
     "output_type": "stream",
     "text": [
      "Using TensorFlow backend.\n",
      "WARNING: Logging before flag parsing goes to stderr.\n",
      "W1012 18:28:31.111827  1560 deprecation_wrapper.py:119] From C:\\ProgramData\\Miniconda3\\lib\\site-packages\\keras\\backend\\tensorflow_backend.py:74: The name tf.get_default_graph is deprecated. Please use tf.compat.v1.get_default_graph instead.\n",
      "\n",
      "W1012 18:28:31.142782  1560 deprecation_wrapper.py:119] From C:\\ProgramData\\Miniconda3\\lib\\site-packages\\keras\\backend\\tensorflow_backend.py:517: The name tf.placeholder is deprecated. Please use tf.compat.v1.placeholder instead.\n",
      "\n",
      "W1012 18:28:31.156708  1560 deprecation_wrapper.py:119] From C:\\ProgramData\\Miniconda3\\lib\\site-packages\\keras\\backend\\tensorflow_backend.py:4138: The name tf.random_uniform is deprecated. Please use tf.random.uniform instead.\n",
      "\n",
      "W1012 18:28:31.382146  1560 deprecation_wrapper.py:119] From C:\\ProgramData\\Miniconda3\\lib\\site-packages\\keras\\optimizers.py:790: The name tf.train.Optimizer is deprecated. Please use tf.compat.v1.train.Optimizer instead.\n",
      "\n",
      "W1012 18:28:31.598526  1560 deprecation.py:323] From C:\\ProgramData\\Miniconda3\\lib\\site-packages\\tensorflow\\python\\ops\\math_grad.py:1250: add_dispatch_support.<locals>.wrapper (from tensorflow.python.ops.array_ops) is deprecated and will be removed in a future version.\n",
      "Instructions for updating:\n",
      "Use tf.where in 2.0, which has the same broadcast rule as np.where\n",
      "W1012 18:28:32.105171  1560 deprecation_wrapper.py:119] From C:\\ProgramData\\Miniconda3\\lib\\site-packages\\keras\\backend\\tensorflow_backend.py:986: The name tf.assign_add is deprecated. Please use tf.compat.v1.assign_add instead.\n",
      "\n",
      "W1012 18:28:32.310687  1560 deprecation_wrapper.py:119] From C:\\ProgramData\\Miniconda3\\lib\\site-packages\\keras\\backend\\tensorflow_backend.py:973: The name tf.assign is deprecated. Please use tf.compat.v1.assign instead.\n",
      "\n"
     ]
    },
    {
     "name": "stdout",
     "output_type": "stream",
     "text": [
      "Epoch 1/100\n",
      " - 1s - loss: 0.0372\n",
      "Epoch 2/100\n",
      " - 0s - loss: 0.0312\n",
      "Epoch 3/100\n",
      " - 0s - loss: 0.0266\n",
      "Epoch 4/100\n",
      " - 0s - loss: 0.0226\n",
      "Epoch 5/100\n",
      " - 0s - loss: 0.0201\n",
      "Epoch 6/100\n",
      " - 0s - loss: 0.0178\n",
      "Epoch 7/100\n",
      " - 0s - loss: 0.0162\n",
      "Epoch 8/100\n",
      " - 0s - loss: 0.0155\n",
      "Epoch 9/100\n",
      " - 0s - loss: 0.0145\n",
      "Epoch 10/100\n",
      " - 0s - loss: 0.0143\n",
      "Epoch 11/100\n",
      " - 0s - loss: 0.0137\n",
      "Epoch 12/100\n",
      " - 0s - loss: 0.0136\n",
      "Epoch 13/100\n",
      " - 0s - loss: 0.0135\n",
      "Epoch 14/100\n",
      " - 0s - loss: 0.0133\n",
      "Epoch 15/100\n",
      " - 0s - loss: 0.0133\n",
      "Epoch 16/100\n",
      " - 0s - loss: 0.0133\n",
      "Epoch 17/100\n",
      " - 0s - loss: 0.0132\n",
      "Epoch 18/100\n",
      " - 0s - loss: 0.0131\n",
      "Epoch 19/100\n",
      " - 0s - loss: 0.0131\n",
      "Epoch 20/100\n",
      " - 0s - loss: 0.0131\n",
      "Epoch 21/100\n",
      " - 0s - loss: 0.0130\n",
      "Epoch 22/100\n",
      " - 0s - loss: 0.0131\n",
      "Epoch 23/100\n",
      " - 0s - loss: 0.0129\n",
      "Epoch 24/100\n",
      " - 0s - loss: 0.0129\n",
      "Epoch 25/100\n",
      " - 0s - loss: 0.0129\n",
      "Epoch 26/100\n",
      " - 0s - loss: 0.0128\n",
      "Epoch 27/100\n",
      " - 0s - loss: 0.0129\n",
      "Epoch 28/100\n",
      " - 0s - loss: 0.0127\n",
      "Epoch 29/100\n",
      " - 0s - loss: 0.0128\n",
      "Epoch 30/100\n",
      " - 0s - loss: 0.0128\n",
      "Epoch 31/100\n",
      " - 0s - loss: 0.0126\n",
      "Epoch 32/100\n",
      " - 0s - loss: 0.0129\n",
      "Epoch 33/100\n",
      " - 0s - loss: 0.0126\n",
      "Epoch 34/100\n",
      " - 0s - loss: 0.0126\n",
      "Epoch 35/100\n",
      " - 0s - loss: 0.0126\n",
      "Epoch 36/100\n",
      " - 0s - loss: 0.0125\n",
      "Epoch 37/100\n",
      " - 0s - loss: 0.0125\n",
      "Epoch 38/100\n",
      " - 0s - loss: 0.0124\n",
      "Epoch 39/100\n",
      " - 0s - loss: 0.0124\n",
      "Epoch 40/100\n",
      " - 0s - loss: 0.0124\n",
      "Epoch 41/100\n",
      " - 0s - loss: 0.0124\n",
      "Epoch 42/100\n",
      " - 0s - loss: 0.0125\n",
      "Epoch 43/100\n",
      " - 0s - loss: 0.0124\n",
      "Epoch 44/100\n",
      " - 0s - loss: 0.0125\n",
      "Epoch 45/100\n",
      " - 0s - loss: 0.0124\n",
      "Epoch 46/100\n",
      " - 0s - loss: 0.0124\n",
      "Epoch 47/100\n",
      " - 0s - loss: 0.0123\n",
      "Epoch 48/100\n",
      " - 0s - loss: 0.0124\n",
      "Epoch 49/100\n",
      " - 0s - loss: 0.0126\n",
      "Epoch 50/100\n",
      " - 0s - loss: 0.0123\n",
      "Epoch 51/100\n",
      " - 0s - loss: 0.0122\n",
      "Epoch 52/100\n",
      " - 0s - loss: 0.0122\n",
      "Epoch 53/100\n",
      " - 0s - loss: 0.0122\n",
      "Epoch 54/100\n",
      " - 0s - loss: 0.0121\n",
      "Epoch 55/100\n",
      " - 0s - loss: 0.0123\n",
      "Epoch 56/100\n",
      " - 0s - loss: 0.0121\n",
      "Epoch 57/100\n",
      " - 0s - loss: 0.0121\n",
      "Epoch 58/100\n",
      " - 0s - loss: 0.0121\n",
      "Epoch 59/100\n",
      " - 0s - loss: 0.0120\n",
      "Epoch 60/100\n",
      " - 0s - loss: 0.0120\n",
      "Epoch 61/100\n",
      " - 0s - loss: 0.0120\n",
      "Epoch 62/100\n",
      " - 0s - loss: 0.0120\n",
      "Epoch 63/100\n",
      " - 0s - loss: 0.0120\n",
      "Epoch 64/100\n",
      " - 0s - loss: 0.0120\n",
      "Epoch 65/100\n",
      " - 0s - loss: 0.0120\n",
      "Epoch 66/100\n",
      " - 0s - loss: 0.0120\n",
      "Epoch 67/100\n",
      " - 0s - loss: 0.0121\n",
      "Epoch 68/100\n",
      " - 0s - loss: 0.0122\n",
      "Epoch 69/100\n",
      " - 0s - loss: 0.0120\n",
      "Epoch 70/100\n",
      " - 0s - loss: 0.0119\n",
      "Epoch 71/100\n",
      " - 0s - loss: 0.0120\n",
      "Epoch 72/100\n",
      " - 0s - loss: 0.0120\n",
      "Epoch 73/100\n",
      " - 0s - loss: 0.0119\n",
      "Epoch 74/100\n",
      " - 0s - loss: 0.0119\n",
      "Epoch 75/100\n",
      " - 0s - loss: 0.0119\n",
      "Epoch 76/100\n",
      " - 0s - loss: 0.0120\n",
      "Epoch 77/100\n",
      " - 0s - loss: 0.0119\n",
      "Epoch 78/100\n",
      " - 0s - loss: 0.0119\n",
      "Epoch 79/100\n",
      " - 0s - loss: 0.0119\n",
      "Epoch 80/100\n",
      " - 0s - loss: 0.0119\n",
      "Epoch 81/100\n",
      " - 0s - loss: 0.0119\n",
      "Epoch 82/100\n",
      " - 0s - loss: 0.0119\n",
      "Epoch 83/100\n",
      " - 0s - loss: 0.0118\n",
      "Epoch 84/100\n",
      " - 0s - loss: 0.0118\n",
      "Epoch 85/100\n",
      " - 0s - loss: 0.0119\n",
      "Epoch 86/100\n",
      " - 0s - loss: 0.0119\n",
      "Epoch 87/100\n",
      " - 0s - loss: 0.0119\n",
      "Epoch 88/100\n",
      " - 0s - loss: 0.0118\n",
      "Epoch 89/100\n",
      " - 0s - loss: 0.0118\n",
      "Epoch 90/100\n",
      " - 0s - loss: 0.0118\n",
      "Epoch 91/100\n",
      " - 0s - loss: 0.0118\n",
      "Epoch 92/100\n",
      " - 0s - loss: 0.0118\n",
      "Epoch 93/100\n",
      " - 0s - loss: 0.0118\n",
      "Epoch 94/100\n",
      " - 0s - loss: 0.0118\n",
      "Epoch 95/100\n",
      " - 0s - loss: 0.0118\n",
      "Epoch 96/100\n",
      " - 0s - loss: 0.0119\n",
      "Epoch 97/100\n",
      " - 0s - loss: 0.0118\n",
      "Epoch 98/100\n",
      " - 0s - loss: 0.0119\n",
      "Epoch 99/100\n",
      " - 0s - loss: 0.0118\n",
      "Epoch 100/100\n",
      " - 0s - loss: 0.0118\n",
      "Train Score: 1596420.28 RMSE\n",
      "Test Score: 1276014.97 RMSE\n"
     ]
    },
    {
     "data": {
      "image/png": "[encoded data removed]",
      "text/plain": [
       "<Figure size 432x288 with 1 Axes>"
      ]
     },
     "metadata": {
      "needs_background": "light"
     },
     "output_type": "display_data"
    }
   ],
   "source": [
    "# LSTM for meat export from USA to Bulgaria problem with time step regression framing\n",
    "import numpy\n",
    "import matplotlib.pyplot as plt\n",
    "from pandas import read_csv\n",
    "import math\n",
    "from keras.models import Sequential\n",
    "from keras.layers import Dense\n",
    "from keras.layers import LSTM\n",
    "from sklearn.preprocessing import MinMaxScaler\n",
    "from sklearn.metrics import mean_squared_error\n",
    "# convert an array of values into a dataset matrix\n",
    "def create_dataset(dataset, look_back=1):\n",
    "\tdataX, dataY = [], []\n",
    "\tfor i in range(len(dataset)-look_back-1):\n",
    "\t\ta = dataset[i:(i+look_back), 0]\n",
    "\t\tdataX.append(a)\n",
    "\t\tdataY.append(dataset[i + look_back, 0])\n",
    "\treturn numpy.array(dataX), numpy.array(dataY)\n",
    "# fix random seed for reproducibility\n",
    "numpy.random.seed(7)\n",
    "# load the dataset\n",
    "dataframe = df_lstm1\n",
    "dataset = dataframe.values\n",
    "dataset = dataset.astype('float32')\n",
    "# normalize the dataset\n",
    "scaler = MinMaxScaler(feature_range=(0, 1))\n",
    "dataset = scaler.fit_transform(dataset)\n",
    "# split into train and test sets\n",
    "train_size = int(len(dataset) * 0.67)\n",
    "test_size = len(dataset) - train_size\n",
    "train, test = dataset[0:train_size,:], dataset[train_size:len(dataset),:]\n",
    "# reshape into X=t and Y=t+1\n",
    "look_back = 2\n",
    "trainX, trainY = create_dataset(train, look_back)\n",
    "testX, testY = create_dataset(test, look_back)\n",
    "# reshape input to be [samples, time steps, features]\n",
    "trainX = numpy.reshape(trainX, (trainX.shape[0], trainX.shape[1], 1))\n",
    "testX = numpy.reshape(testX, (testX.shape[0], testX.shape[1], 1))\n",
    "# create and fit the LSTM network\n",
    "model = Sequential()\n",
    "model.add(LSTM(4, input_shape=(look_back, 1)))\n",
    "model.add(Dense(1))\n",
    "model.compile(loss='mean_squared_error', optimizer='adam')\n",
    "model.fit(trainX, trainY, epochs=100, batch_size=1, verbose=2)\n",
    "# make predictions\n",
    "trainPredict = model.predict(trainX)\n",
    "testPredict = model.predict(testX)\n",
    "# invert predictions\n",
    "trainPredict = scaler.inverse_transform(trainPredict)\n",
    "trainY = scaler.inverse_transform([trainY])\n",
    "testPredict = scaler.inverse_transform(testPredict)\n",
    "testY = scaler.inverse_transform([testY])\n",
    "# calculate root mean squared error\n",
    "trainScore = math.sqrt(mean_squared_error(trainY[0], trainPredict[:,0]))\n",
    "print('Train Score: %.2f RMSE' % (trainScore))\n",
    "testScore = math.sqrt(mean_squared_error(testY[0], testPredict[:,0]))\n",
    "print('Test Score: %.2f RMSE' % (testScore))\n",
    "# shift train predictions for plotting\n",
    "trainPredictPlot = numpy.empty_like(dataset)\n",
    "trainPredictPlot[:, :] = numpy.nan\n",
    "trainPredictPlot[look_back:len(trainPredict)+look_back, :] = trainPredict\n",
    "# shift test predictions for plotting\n",
    "testPredictPlot = numpy.empty_like(dataset)\n",
    "testPredictPlot[:, :] = numpy.nan\n",
    "testPredictPlot[len(trainPredict)+(look_back*2)+1:len(dataset)-1, :] = testPredict\n",
    "# plot baseline and predictions\n",
    "plt.plot([1992, 1993, 1994, 1995, 1996, 1997, 1998, 1999, 2000, 2001, 2002,\n",
    "       2003, 2004, 2005, 2006, 2007, 2008, 2009, 2013, 2014, 2016, 2017,\n",
    "       2018, 2019, 2020, 2021], scaler.inverse_transform(dataset))\n",
    "plt.plot([1992, 1993, 1994, 1995, 1996, 1997, 1998, 1999, 2000, 2001, 2002,\n",
    "       2003, 2004, 2005, 2006, 2007, 2008, 2009, 2013, 2014, 2016, 2017,\n",
    "       2018, 2019, 2020, 2021], trainPredictPlot)\n",
    "plt.plot([1992, 1993, 1994, 1995, 1996, 1997, 1998, 1999, 2000, 2001, 2002,\n",
    "       2003, 2004, 2005, 2006, 2007, 2008, 2009, 2013, 2014, 2016, 2017,\n",
    "       2018, 2019, 2020, 2021], testPredictPlot)\n",
    "plt.show()"
   ]
  },
  {
   "cell_type": "markdown",
   "metadata": {},
   "source": [
    "###### Using GridSearch to optimise the parameters of the ARIMA modelling"
   ]
  },
  {
   "cell_type": "code",
   "execution_count": 35,
   "metadata": {},
   "outputs": [],
   "source": [
    "\n",
    "import warnings\n",
    "warnings.filterwarnings(\"ignore\")"
   ]
  },
  {
   "cell_type": "code",
   "execution_count": 36,
   "metadata": {},
   "outputs": [],
   "source": [
    "df_Bulgaria_agg12 = df_Bulgaria_agg1.drop(columns = ' YEAR_ID')"
   ]
  },
  {
   "cell_type": "code",
   "execution_count": 37,
   "metadata": {},
   "outputs": [],
   "source": [
    "df_Bulgaria_agg12.to_csv(r'C:\\Users\\Kristine\\Desktop\\export_dataframe.csv', index=True)"
   ]
  },
  {
   "cell_type": "code",
   "execution_count": 38,
   "metadata": {},
   "outputs": [],
   "source": [
    "series = read_csv('daily-total-female-births.csv', header=0, index_col=0)"
   ]
  },
  {
   "cell_type": "code",
   "execution_count": 39,
   "metadata": {},
   "outputs": [],
   "source": [
    "Bulgaria = pd.read_csv('export_dataframe.csv', header=0, index_col=0)"
   ]
  },
  {
   "cell_type": "code",
   "execution_count": 40,
   "metadata": {
    "scrolled": true
   },
   "outputs": [
    {
     "name": "stdout",
     "output_type": "stream",
     "text": [
      "ARIMA(0, 0, 0) MSE=25049067415620.559\n",
      "ARIMA(0, 0, 1) MSE=27801990024448.055\n",
      "ARIMA(0, 0, 2) MSE=58544693118881.094\n",
      "ARIMA(0, 1, 0) MSE=36551228262284.602\n",
      "ARIMA(0, 2, 0) MSE=99522940780443.203\n",
      "ARIMA(1, 0, 0) MSE=30963278631458.477\n",
      "ARIMA(1, 1, 0) MSE=50447138873812.812\n",
      "ARIMA(1, 2, 0) MSE=82064213919069.922\n",
      "ARIMA(2, 0, 0) MSE=35112008630203.906\n",
      "ARIMA(2, 1, 0) MSE=64621074977007.086\n",
      "ARIMA(4, 0, 0) MSE=51282464096208.406\n",
      "ARIMA(4, 1, 0) MSE=69816655304355.422\n",
      "ARIMA(6, 0, 0) MSE=66368163244411.617\n",
      "Best ARIMA(0, 0, 0) MSE=25049067415620.559\n"
     ]
    }
   ],
   "source": [
    "from pandas import read_csv\n",
    "from statsmodels.tsa.arima_model import ARIMA\n",
    "from sklearn.metrics import mean_squared_error\n",
    " \n",
    "# evaluate an ARIMA model for a given order (p,d,q)\n",
    "def evaluate_arima_model(X, arima_order):\n",
    "\t# prepare training dataset\n",
    "\ttrain_size = int(len(X) * 0.66)\n",
    "\ttrain, test = X[0:train_size], X[train_size:]\n",
    "\thistory = [x for x in train]\n",
    "\t# make predictions\n",
    "\tpredictions = list()\n",
    "\tfor t in range(len(test)):\n",
    "\t\tmodel = ARIMA(history, order=arima_order)\n",
    "\t\tmodel_fit = model.fit(disp=0)\n",
    "\t\tyhat = model_fit.forecast()[0]\n",
    "\t\tpredictions.append(yhat)\n",
    "\t\thistory.append(test[t])\n",
    "\t# calculate out of sample error\n",
    "\terror = mean_squared_error(test, predictions)\n",
    "\treturn error\n",
    " \n",
    "# evaluate combinations of p, d and q values for an ARIMA model\n",
    "def evaluate_models(dataset, p_values, d_values, q_values):\n",
    "\tdataset = dataset.astype('float32')\n",
    "\tbest_score, best_cfg = float(\"inf\"), None\n",
    "\tfor p in p_values:\n",
    "\t\tfor d in d_values:\n",
    "\t\t\tfor q in q_values:\n",
    "\t\t\t\torder = (p,d,q)\n",
    "\t\t\t\ttry:\n",
    "\t\t\t\t\tmse = evaluate_arima_model(dataset, order)\n",
    "\t\t\t\t\tif mse < best_score:\n",
    "\t\t\t\t\t\tbest_score, best_cfg = mse, order\n",
    "\t\t\t\t\tprint('ARIMA%s MSE=%.3f' % (order,mse))\n",
    "\t\t\t\texcept:\n",
    "\t\t\t\t\tcontinue\n",
    "\tprint('Best ARIMA%s MSE=%.3f' % (best_cfg, best_score))\n",
    " \n",
    "# load dataset\n",
    "series = read_csv('daily-total-female-births.csv', header=0, index_col=0)\n",
    "# evaluate parameters\n",
    "p_values = [0, 1, 2, 4, 6, 8, 10]\n",
    "d_values = range(0, 3)\n",
    "q_values = range(0, 3)\n",
    "warnings.filterwarnings(\"ignore\")\n",
    "evaluate_models(Bulgaria.values, p_values, d_values, q_values)"
   ]
  },
  {
   "cell_type": "markdown",
   "metadata": {},
   "source": [
    "###### Exploration of data on pork import in Bulgaria from USA"
   ]
  },
  {
   "cell_type": "code",
   "execution_count": 41,
   "metadata": {},
   "outputs": [],
   "source": [
    "df_BG = df_Bulgaria.drop(columns = [' TIMEPERIOD_ID', 'GEOGRAPHY_DESC', 'AMOUNT'])"
   ]
  },
  {
   "cell_type": "code",
   "execution_count": 42,
   "metadata": {},
   "outputs": [],
   "source": [
    "BG_pork = df_BG[df_BG['Nouns'] == 'pork']\n"
   ]
  },
  {
   "cell_type": "code",
   "execution_count": 43,
   "metadata": {},
   "outputs": [],
   "source": [
    "BG_pork = BG_pork.groupby([' YEAR_ID']).agg(sum).reset_index()"
   ]
  },
  {
   "cell_type": "code",
   "execution_count": 44,
   "metadata": {},
   "outputs": [
    {
     "data": {
      "text/plain": [
       "[<matplotlib.lines.Line2D at 0x2081c3f72e8>]"
      ]
     },
     "execution_count": 44,
     "metadata": {},
     "output_type": "execute_result"
    },
    {
     "data": {
      "image/png": "[encoded data removed]",
      "text/plain": [
       "<Figure size 432x288 with 1 Axes>"
      ]
     },
     "metadata": {
      "needs_background": "light"
     },
     "output_type": "display_data"
    }
   ],
   "source": [
    "plt.plot(BG_pork[' YEAR_ID'], BG_pork['Final_amount'])"
   ]
  },
  {
   "cell_type": "code",
   "execution_count": 45,
   "metadata": {},
   "outputs": [
    {
     "data": {
      "text/html": [
       "<div>\n",
       "<style scoped>\n",
       "    .dataframe tbody tr th:only-of-type {\n",
       "        vertical-align: middle;\n",
       "    }\n",
       "\n",
       "    .dataframe tbody tr th {\n",
       "        vertical-align: top;\n",
       "    }\n",
       "\n",
       "    .dataframe thead th {\n",
       "        text-align: right;\n",
       "    }\n",
       "</style>\n",
       "<table border=\"1\" class=\"dataframe\">\n",
       "  <thead>\n",
       "    <tr style=\"text-align: right;\">\n",
       "      <th></th>\n",
       "      <th>YEAR_ID</th>\n",
       "      <th>Final_amount</th>\n",
       "    </tr>\n",
       "  </thead>\n",
       "  <tbody>\n",
       "    <tr>\n",
       "      <th>0</th>\n",
       "      <td>1994</td>\n",
       "      <td>1.455679e+04</td>\n",
       "    </tr>\n",
       "    <tr>\n",
       "      <th>1</th>\n",
       "      <td>1995</td>\n",
       "      <td>3.603709e+04</td>\n",
       "    </tr>\n",
       "    <tr>\n",
       "      <th>2</th>\n",
       "      <td>1996</td>\n",
       "      <td>3.024356e+03</td>\n",
       "    </tr>\n",
       "    <tr>\n",
       "      <th>3</th>\n",
       "      <td>1997</td>\n",
       "      <td>2.934259e+05</td>\n",
       "    </tr>\n",
       "    <tr>\n",
       "      <th>4</th>\n",
       "      <td>1998</td>\n",
       "      <td>3.005675e+04</td>\n",
       "    </tr>\n",
       "    <tr>\n",
       "      <th>5</th>\n",
       "      <td>1999</td>\n",
       "      <td>1.131374e+05</td>\n",
       "    </tr>\n",
       "    <tr>\n",
       "      <th>6</th>\n",
       "      <td>2000</td>\n",
       "      <td>1.059730e+05</td>\n",
       "    </tr>\n",
       "    <tr>\n",
       "      <th>7</th>\n",
       "      <td>2001</td>\n",
       "      <td>1.395515e+06</td>\n",
       "    </tr>\n",
       "    <tr>\n",
       "      <th>8</th>\n",
       "      <td>2002</td>\n",
       "      <td>1.558263e+06</td>\n",
       "    </tr>\n",
       "    <tr>\n",
       "      <th>9</th>\n",
       "      <td>2003</td>\n",
       "      <td>5.663809e+05</td>\n",
       "    </tr>\n",
       "    <tr>\n",
       "      <th>10</th>\n",
       "      <td>2004</td>\n",
       "      <td>6.059690e+05</td>\n",
       "    </tr>\n",
       "    <tr>\n",
       "      <th>11</th>\n",
       "      <td>2005</td>\n",
       "      <td>1.251224e+06</td>\n",
       "    </tr>\n",
       "    <tr>\n",
       "      <th>12</th>\n",
       "      <td>2006</td>\n",
       "      <td>1.031718e+06</td>\n",
       "    </tr>\n",
       "    <tr>\n",
       "      <th>13</th>\n",
       "      <td>2007</td>\n",
       "      <td>3.128077e+06</td>\n",
       "    </tr>\n",
       "    <tr>\n",
       "      <th>14</th>\n",
       "      <td>2008</td>\n",
       "      <td>8.900820e+06</td>\n",
       "    </tr>\n",
       "    <tr>\n",
       "      <th>15</th>\n",
       "      <td>2009</td>\n",
       "      <td>8.125548e+05</td>\n",
       "    </tr>\n",
       "    <tr>\n",
       "      <th>16</th>\n",
       "      <td>2018</td>\n",
       "      <td>1.260000e+04</td>\n",
       "    </tr>\n",
       "    <tr>\n",
       "      <th>17</th>\n",
       "      <td>2019</td>\n",
       "      <td>1.058647e+04</td>\n",
       "    </tr>\n",
       "  </tbody>\n",
       "</table>\n",
       "</div>"
      ],
      "text/plain": [
       "     YEAR_ID  Final_amount\n",
       "0       1994  1.455679e+04\n",
       "1       1995  3.603709e+04\n",
       "2       1996  3.024356e+03\n",
       "3       1997  2.934259e+05\n",
       "4       1998  3.005675e+04\n",
       "5       1999  1.131374e+05\n",
       "6       2000  1.059730e+05\n",
       "7       2001  1.395515e+06\n",
       "8       2002  1.558263e+06\n",
       "9       2003  5.663809e+05\n",
       "10      2004  6.059690e+05\n",
       "11      2005  1.251224e+06\n",
       "12      2006  1.031718e+06\n",
       "13      2007  3.128077e+06\n",
       "14      2008  8.900820e+06\n",
       "15      2009  8.125548e+05\n",
       "16      2018  1.260000e+04\n",
       "17      2019  1.058647e+04"
      ]
     },
     "execution_count": 45,
     "metadata": {},
     "output_type": "execute_result"
    }
   ],
   "source": [
    "BG_pork"
   ]
  },
  {
   "cell_type": "code",
   "execution_count": 46,
   "metadata": {},
   "outputs": [],
   "source": [
    "add = [ (2010, 0) , (2011, 0), (2012, 0), (2013, 0), (2014, 0), (2015, 0), (2016, 0), (2017, 0), (2018, 0)] "
   ]
  },
  {
   "cell_type": "code",
   "execution_count": 47,
   "metadata": {},
   "outputs": [],
   "source": [
    "dfObj = pd.DataFrame(add, columns = [' YEAR_ID' , 'Final_amount'])"
   ]
  },
  {
   "cell_type": "code",
   "execution_count": 48,
   "metadata": {},
   "outputs": [],
   "source": [
    "df_row = pd.concat([BG_pork, dfObj])"
   ]
  },
  {
   "cell_type": "code",
   "execution_count": 49,
   "metadata": {},
   "outputs": [],
   "source": [
    "df_row = df_row.reset_index()"
   ]
  },
  {
   "cell_type": "code",
   "execution_count": 50,
   "metadata": {},
   "outputs": [],
   "source": [
    "df_row = df_row.sort_values(' YEAR_ID')"
   ]
  },
  {
   "cell_type": "code",
   "execution_count": 51,
   "metadata": {},
   "outputs": [
    {
     "data": {
      "text/plain": [
       "[<matplotlib.lines.Line2D at 0x2081d91b860>]"
      ]
     },
     "execution_count": 51,
     "metadata": {},
     "output_type": "execute_result"
    },
    {
     "data": {
      "image/png": "[encoded data removed]",
      "text/plain": [
       "<Figure size 432x288 with 1 Axes>"
      ]
     },
     "metadata": {
      "needs_background": "light"
     },
     "output_type": "display_data"
    }
   ],
   "source": [
    "plt.plot(df_row[' YEAR_ID'], df_row[ 'Final_amount'])"
   ]
  },
  {
   "cell_type": "markdown",
   "metadata": {},
   "source": [
    "###### Getting the data for country Brazil and predict the meat export from US using ARIMA"
   ]
  },
  {
   "cell_type": "code",
   "execution_count": 52,
   "metadata": {},
   "outputs": [],
   "source": [
    "df_Brazil = dff[dff['GEOGRAPHY_DESC'] == 'Brazil']\n",
    "df_Brazil_agg =  df_Brazil.loc[:, (df_Brazil.columns).isin([' YEAR_ID', 'Final_amount'])]\n",
    "df_Brazil_agg1 = df_Brazil_agg.groupby([' YEAR_ID']).agg(sum).reset_index()\n",
    "df_Brazil_agg1 = df_Brazil_agg1.drop(df_Brazil_agg1.tail(1).index) "
   ]
  },
  {
   "cell_type": "code",
   "execution_count": 53,
   "metadata": {},
   "outputs": [
    {
     "name": "stdout",
     "output_type": "stream",
     "text": [
      "                              ARMA Model Results                              \n",
      "==============================================================================\n",
      "Dep. Variable:           Final_amount   No. Observations:                   30\n",
      "Model:                     ARMA(0, 2)   Log Likelihood                -450.110\n",
      "Method:                       css-mle   S.D. of innovations         785456.894\n",
      "Date:                Sat, 12 Oct 2019   AIC                            908.220\n",
      "Time:                        18:28:45   BIC                            913.825\n",
      "Sample:                             0   HQIC                           910.013\n",
      "                                                                              \n",
      "======================================================================================\n",
      "                         coef    std err          z      P>|z|      [0.025      0.975]\n",
      "--------------------------------------------------------------------------------------\n",
      "const               1.872e+06   2.86e+05      6.546      0.000    1.31e+06    2.43e+06\n",
      "ma.L1.Final_amount     0.5838      0.157      3.730      0.001       0.277       0.891\n",
      "ma.L2.Final_amount     0.4564      0.173      2.631      0.014       0.116       0.796\n",
      "                                    Roots                                    \n",
      "=============================================================================\n",
      "                  Real          Imaginary           Modulus         Frequency\n",
      "-----------------------------------------------------------------------------\n",
      "MA.1           -0.6397           -1.3349j            1.4803           -0.3211\n",
      "MA.2           -0.6397           +1.3349j            1.4803            0.3211\n",
      "-----------------------------------------------------------------------------\n",
      "Residuals Description\n",
      "count    3.000000e+01\n",
      "mean     1.534068e+04\n",
      "std      8.057448e+05\n",
      "min     -1.923932e+06\n",
      "25%     -5.785327e+05\n",
      "50%     -1.008363e+05\n",
      "75%      7.541181e+05\n",
      "max      1.679913e+06\n",
      "dtype: float64\n"
     ]
    }
   ],
   "source": [
    "model = ARIMA(df_Brazil_agg1['Final_amount'], order=(0,0,2))\n",
    "model_fit = model.fit()\n",
    "print(model_fit.summary())\n",
    "print('Residuals Description')\n",
    "print(model_fit.resid.describe())"
   ]
  },
  {
   "cell_type": "code",
   "execution_count": 54,
   "metadata": {},
   "outputs": [],
   "source": [
    "pred = model_fit.predict(start=len(df_Brazil_agg1['Final_amount']), end=len(df_Brazil_agg1['Final_amount']) + 2)"
   ]
  },
  {
   "cell_type": "code",
   "execution_count": 55,
   "metadata": {},
   "outputs": [
    {
     "data": {
      "text/plain": [
       "30    2.274840e+06\n",
       "31    2.234843e+06\n",
       "32    1.871863e+06\n",
       "dtype: float64"
      ]
     },
     "execution_count": 55,
     "metadata": {},
     "output_type": "execute_result"
    }
   ],
   "source": [
    "pred"
   ]
  },
  {
   "cell_type": "code",
   "execution_count": 56,
   "metadata": {},
   "outputs": [
    {
     "data": {
      "text/plain": [
       "<matplotlib.axes._subplots.AxesSubplot at 0x2081d968d30>"
      ]
     },
     "execution_count": 56,
     "metadata": {},
     "output_type": "execute_result"
    },
    {
     "data": {
      "image/png": "[encoded data removed]",
      "text/plain": [
       "<Figure size 432x288 with 1 Axes>"
      ]
     },
     "metadata": {
      "needs_background": "light"
     },
     "output_type": "display_data"
    }
   ],
   "source": [
    "pred2 = pd.DataFrame(columns = [' YEAR_ID', 'Final_amount'])\n",
    "pred2['Final_amount'] = pred\n",
    "pred2[' YEAR_ID'] = range(2019,2022)\n",
    "\n",
    "    \n",
    "df_Brazil_agg1.index = df_Brazil_agg1[' YEAR_ID']\n",
    "pred2.index = pred2[' YEAR_ID']\n",
    "df_all = pd.merge(df_Brazil_agg1['Final_amount'], pred2['Final_amount'], \n",
    "                  how = 'outer', left_index=True, right_index=True)\n",
    "import math\n",
    "\n",
    "for i in df_all.index:\n",
    "    if math.isnan(df_all.loc[i, 'Final_amount_x']):\n",
    "        df_all.loc[i, 'Final_amount_x'] = df_all.loc[i, 'Final_amount_y']\n",
    "df_all.plot()"
   ]
  },
  {
   "cell_type": "markdown",
   "metadata": {},
   "source": [
    "###### Predicting meat export from US using LSTM"
   ]
  },
  {
   "cell_type": "code",
   "execution_count": 57,
   "metadata": {},
   "outputs": [
    {
     "name": "stdout",
     "output_type": "stream",
     "text": [
      "Epoch 1/100\n",
      " - 1s - loss: 0.3264\n",
      "Epoch 2/100\n",
      " - 0s - loss: 0.2865\n",
      "Epoch 3/100\n",
      " - 0s - loss: 0.2491\n",
      "Epoch 4/100\n",
      " - 0s - loss: 0.2198\n",
      "Epoch 5/100\n",
      " - 0s - loss: 0.1921\n",
      "Epoch 6/100\n",
      " - 0s - loss: 0.1691\n",
      "Epoch 7/100\n",
      " - 0s - loss: 0.1491\n",
      "Epoch 8/100\n",
      " - 0s - loss: 0.1326\n",
      "Epoch 9/100\n",
      " - 0s - loss: 0.1186\n",
      "Epoch 10/100\n",
      " - 0s - loss: 0.1108\n",
      "Epoch 11/100\n",
      " - 0s - loss: 0.1012\n",
      "Epoch 12/100\n",
      " - 0s - loss: 0.0967\n",
      "Epoch 13/100\n",
      " - 0s - loss: 0.0931\n",
      "Epoch 14/100\n",
      " - 0s - loss: 0.0902\n",
      "Epoch 15/100\n",
      " - 0s - loss: 0.0902\n",
      "Epoch 16/100\n",
      " - 0s - loss: 0.0877\n",
      "Epoch 17/100\n",
      " - 0s - loss: 0.0880\n",
      "Epoch 18/100\n",
      " - 0s - loss: 0.0869\n",
      "Epoch 19/100\n",
      " - 0s - loss: 0.0874\n",
      "Epoch 20/100\n",
      " - 0s - loss: 0.0865\n",
      "Epoch 21/100\n",
      " - 0s - loss: 0.0865\n",
      "Epoch 22/100\n",
      " - 0s - loss: 0.0865\n",
      "Epoch 23/100\n",
      " - 0s - loss: 0.0863\n",
      "Epoch 24/100\n",
      " - 0s - loss: 0.0864\n",
      "Epoch 25/100\n",
      " - 0s - loss: 0.0865\n",
      "Epoch 26/100\n",
      " - 0s - loss: 0.0864\n",
      "Epoch 27/100\n",
      " - 0s - loss: 0.0861\n",
      "Epoch 28/100\n",
      " - 0s - loss: 0.0864\n",
      "Epoch 29/100\n",
      " - 0s - loss: 0.0862\n",
      "Epoch 30/100\n",
      " - 0s - loss: 0.0861\n",
      "Epoch 31/100\n",
      " - 0s - loss: 0.0868\n",
      "Epoch 32/100\n",
      " - 0s - loss: 0.0858\n",
      "Epoch 33/100\n",
      " - 0s - loss: 0.0866\n",
      "Epoch 34/100\n",
      " - 0s - loss: 0.0859\n",
      "Epoch 35/100\n",
      " - 0s - loss: 0.0860\n",
      "Epoch 36/100\n",
      " - 0s - loss: 0.0857\n",
      "Epoch 37/100\n",
      " - 0s - loss: 0.0857\n",
      "Epoch 38/100\n",
      " - 0s - loss: 0.0863\n",
      "Epoch 39/100\n",
      " - 0s - loss: 0.0857\n",
      "Epoch 40/100\n",
      " - 0s - loss: 0.0854\n",
      "Epoch 41/100\n",
      " - 0s - loss: 0.0859\n",
      "Epoch 42/100\n",
      " - 0s - loss: 0.0855\n",
      "Epoch 43/100\n",
      " - 0s - loss: 0.0854\n",
      "Epoch 44/100\n",
      " - 0s - loss: 0.0854\n",
      "Epoch 45/100\n",
      " - 0s - loss: 0.0854\n",
      "Epoch 46/100\n",
      " - 0s - loss: 0.0854\n",
      "Epoch 47/100\n",
      " - 0s - loss: 0.0854\n",
      "Epoch 48/100\n",
      " - 0s - loss: 0.0851\n",
      "Epoch 49/100\n",
      " - 0s - loss: 0.0853\n",
      "Epoch 50/100\n",
      " - 0s - loss: 0.0852\n",
      "Epoch 51/100\n",
      " - 0s - loss: 0.0854\n",
      "Epoch 52/100\n",
      " - 0s - loss: 0.0850\n",
      "Epoch 53/100\n",
      " - 0s - loss: 0.0854\n",
      "Epoch 54/100\n",
      " - 0s - loss: 0.0853\n",
      "Epoch 55/100\n",
      " - 0s - loss: 0.0851\n",
      "Epoch 56/100\n",
      " - 0s - loss: 0.0854\n",
      "Epoch 57/100\n",
      " - 0s - loss: 0.0854\n",
      "Epoch 58/100\n",
      " - 0s - loss: 0.0853\n",
      "Epoch 59/100\n",
      " - 0s - loss: 0.0849\n",
      "Epoch 60/100\n",
      " - 0s - loss: 0.0855\n",
      "Epoch 61/100\n",
      " - 0s - loss: 0.0849\n",
      "Epoch 62/100\n",
      " - 0s - loss: 0.0854\n",
      "Epoch 63/100\n",
      " - 0s - loss: 0.0851\n",
      "Epoch 64/100\n",
      " - 0s - loss: 0.0848\n",
      "Epoch 65/100\n",
      " - 0s - loss: 0.0846\n",
      "Epoch 66/100\n",
      " - 0s - loss: 0.0849\n",
      "Epoch 67/100\n",
      " - 0s - loss: 0.0854\n",
      "Epoch 68/100\n",
      " - 0s - loss: 0.0851\n",
      "Epoch 69/100\n",
      " - 0s - loss: 0.0852\n",
      "Epoch 70/100\n",
      " - 0s - loss: 0.0845\n",
      "Epoch 71/100\n",
      " - 0s - loss: 0.0844\n",
      "Epoch 72/100\n",
      " - 0s - loss: 0.0844\n",
      "Epoch 73/100\n",
      " - 0s - loss: 0.0844\n",
      "Epoch 74/100\n",
      " - 0s - loss: 0.0846\n",
      "Epoch 75/100\n",
      " - 0s - loss: 0.0845\n",
      "Epoch 76/100\n",
      " - 0s - loss: 0.0847\n",
      "Epoch 77/100\n",
      " - 0s - loss: 0.0844\n",
      "Epoch 78/100\n",
      " - 0s - loss: 0.0844\n",
      "Epoch 79/100\n",
      " - 0s - loss: 0.0844\n",
      "Epoch 80/100\n",
      " - 0s - loss: 0.0843\n",
      "Epoch 81/100\n",
      " - 0s - loss: 0.0845\n",
      "Epoch 82/100\n",
      " - 0s - loss: 0.0842\n",
      "Epoch 83/100\n",
      " - 0s - loss: 0.0841\n",
      "Epoch 84/100\n",
      " - 0s - loss: 0.0840\n",
      "Epoch 85/100\n",
      " - 0s - loss: 0.0841\n",
      "Epoch 86/100\n",
      " - 0s - loss: 0.0840\n",
      "Epoch 87/100\n",
      " - 0s - loss: 0.0844\n",
      "Epoch 88/100\n",
      " - 0s - loss: 0.0846\n",
      "Epoch 89/100\n",
      " - 0s - loss: 0.0840\n",
      "Epoch 90/100\n",
      " - 0s - loss: 0.0839\n",
      "Epoch 91/100\n",
      " - 0s - loss: 0.0839\n",
      "Epoch 92/100\n",
      " - 0s - loss: 0.0841\n",
      "Epoch 93/100\n",
      " - 0s - loss: 0.0840\n",
      "Epoch 94/100\n",
      " - 0s - loss: 0.0841\n",
      "Epoch 95/100\n",
      " - 0s - loss: 0.0839\n",
      "Epoch 96/100\n",
      " - 0s - loss: 0.0835\n",
      "Epoch 97/100\n",
      " - 0s - loss: 0.0838\n",
      "Epoch 98/100\n",
      " - 0s - loss: 0.0838\n",
      "Epoch 99/100\n",
      " - 0s - loss: 0.0846\n",
      "Epoch 100/100\n",
      " - 0s - loss: 0.0834\n",
      "Train Score: 917930.02 RMSE\n",
      "Test Score: 797574.94 RMSE\n"
     ]
    },
    {
     "data": {
      "image/png": "[encoded data removed]",
      "text/plain": [
       "<Figure size 432x288 with 1 Axes>"
      ]
     },
     "metadata": {
      "needs_background": "light"
     },
     "output_type": "display_data"
    }
   ],
   "source": [
    "df_lstm = df_Brazil_agg1.reset_index(drop = True)\n",
    "df_lstm = df_lstm.drop(columns = ' YEAR_ID')\n",
    "df_next5_ = pred2.drop(columns = ' YEAR_ID')\n",
    "df_lstm1 = pd.concat([df_lstm, df_next5_])\n",
    "\n",
    "# convert an array of values into a dataset matrix\n",
    "def create_dataset(dataset, look_back=1):\n",
    "\tdataX, dataY = [], []\n",
    "\tfor i in range(len(dataset)-look_back-1):\n",
    "\t\ta = dataset[i:(i+look_back), 0]\n",
    "\t\tdataX.append(a)\n",
    "\t\tdataY.append(dataset[i + look_back, 0])\n",
    "\treturn numpy.array(dataX), numpy.array(dataY)\n",
    "# fix random seed for reproducibility\n",
    "numpy.random.seed(7)\n",
    "# load the dataset\n",
    "dataframe = df_lstm1\n",
    "dataset = dataframe.values\n",
    "dataset = dataset.astype('float32')\n",
    "# normalize the dataset\n",
    "scaler = MinMaxScaler(feature_range=(0, 1))\n",
    "dataset = scaler.fit_transform(dataset)\n",
    "# split into train and test sets\n",
    "train_size = int(len(dataset) * 0.67)\n",
    "test_size = len(dataset) - train_size\n",
    "train, test = dataset[0:train_size,:], dataset[train_size:len(dataset),:]\n",
    "# reshape into X=t and Y=t+1\n",
    "look_back = 2\n",
    "trainX, trainY = create_dataset(train, look_back)\n",
    "testX, testY = create_dataset(test, look_back)\n",
    "# reshape input to be [samples, time steps, features]\n",
    "trainX = numpy.reshape(trainX, (trainX.shape[0], trainX.shape[1], 1))\n",
    "testX = numpy.reshape(testX, (testX.shape[0], testX.shape[1], 1))\n",
    "# create and fit the LSTM network\n",
    "model = Sequential()\n",
    "model.add(LSTM(4, input_shape=(look_back, 1)))\n",
    "model.add(Dense(1))\n",
    "model.compile(loss='mean_squared_error', optimizer='adam')\n",
    "model.fit(trainX, trainY, epochs=100, batch_size=1, verbose=2)\n",
    "# make predictions\n",
    "trainPredict = model.predict(trainX)\n",
    "testPredict = model.predict(testX)\n",
    "# invert predictions\n",
    "trainPredict = scaler.inverse_transform(trainPredict)\n",
    "trainY = scaler.inverse_transform([trainY])\n",
    "testPredict = scaler.inverse_transform(testPredict)\n",
    "testY = scaler.inverse_transform([testY])\n",
    "# calculate root mean squared error\n",
    "trainScore = math.sqrt(mean_squared_error(trainY[0], trainPredict[:,0]))\n",
    "print('Train Score: %.2f RMSE' % (trainScore))\n",
    "testScore = math.sqrt(mean_squared_error(testY[0], testPredict[:,0]))\n",
    "print('Test Score: %.2f RMSE' % (testScore))\n",
    "# shift train predictions for plotting\n",
    "trainPredictPlot = numpy.empty_like(dataset)\n",
    "trainPredictPlot[:, :] = numpy.nan\n",
    "trainPredictPlot[look_back:len(trainPredict)+look_back, :] = trainPredict\n",
    "# shift test predictions for plotting\n",
    "testPredictPlot = numpy.empty_like(dataset)\n",
    "testPredictPlot[:, :] = numpy.nan\n",
    "testPredictPlot[len(trainPredict)+(look_back*2)+1:len(dataset)-1, :] = testPredict\n",
    "# plot baseline and predictions\n",
    "plt.plot(range(1989,2022),scaler.inverse_transform(dataset))\n",
    "plt.plot(range(1989,2022),trainPredictPlot)\n",
    "plt.plot(range(1989,2022),testPredictPlot)\n",
    "plt.show()\n",
    "\n"
   ]
  },
  {
   "cell_type": "markdown",
   "metadata": {},
   "source": [
    "###### Using GridSearch to optimise the parameters of ARIMA"
   ]
  },
  {
   "cell_type": "code",
   "execution_count": 58,
   "metadata": {},
   "outputs": [
    {
     "name": "stdout",
     "output_type": "stream",
     "text": [
      "ARIMA(0, 0, 0) MSE=1666354706118.256\n",
      "ARIMA(0, 0, 1) MSE=1222010159233.575\n",
      "ARIMA(0, 1, 0) MSE=997670191868.061\n",
      "ARIMA(0, 1, 1) MSE=1004383826476.587\n",
      "ARIMA(0, 1, 2) MSE=1513743674012.422\n",
      "ARIMA(0, 2, 0) MSE=2391507176880.328\n",
      "ARIMA(1, 0, 0) MSE=943662069827.736\n",
      "ARIMA(1, 0, 1) MSE=1125588714070.397\n",
      "ARIMA(1, 1, 0) MSE=1000020793165.490\n",
      "ARIMA(1, 2, 0) MSE=1625684006868.248\n",
      "ARIMA(1, 2, 1) MSE=1224157264459.846\n",
      "ARIMA(2, 0, 0) MSE=1092081502702.112\n",
      "ARIMA(2, 1, 0) MSE=1089494776855.763\n",
      "ARIMA(2, 1, 1) MSE=1027216619187.683\n",
      "ARIMA(2, 2, 0) MSE=1849689712890.289\n",
      "ARIMA(2, 2, 1) MSE=1409690610839.928\n",
      "ARIMA(4, 0, 0) MSE=1300187779753.075\n",
      "ARIMA(4, 0, 1) MSE=1261809775462.551\n",
      "ARIMA(4, 1, 0) MSE=1117307438782.250\n",
      "ARIMA(4, 1, 1) MSE=1146288882110.734\n",
      "ARIMA(4, 2, 0) MSE=1605880445081.808\n",
      "ARIMA(6, 0, 0) MSE=1495240726766.830\n",
      "ARIMA(6, 1, 0) MSE=1220776485763.966\n",
      "ARIMA(6, 2, 0) MSE=1733758306015.151\n",
      "ARIMA(8, 1, 0) MSE=1421011075219.787\n",
      "Best ARIMA(1, 0, 0) MSE=943662069827.736\n"
     ]
    }
   ],
   "source": [
    "df_Brazil_agg12 = df_Brazil_agg1.drop(columns = ' YEAR_ID')\n",
    "df_Brazil_agg12.to_csv(r'C:\\Users\\Kristine\\Downloads\\export_dataframe1.csv', index=True)\n",
    "Brazil = pd.read_csv('export_dataframe1.csv', header=0, index_col=0)\n",
    " \n",
    "# evaluate an ARIMA model for a given order (p,d,q)\n",
    "def evaluate_arima_model(X, arima_order):\n",
    "\t# prepare training dataset\n",
    "\ttrain_size = int(len(X) * 0.66)\n",
    "\ttrain, test = X[0:train_size], X[train_size:]\n",
    "\thistory = [x for x in train]\n",
    "\t# make predictions\n",
    "\tpredictions = list()\n",
    "\tfor t in range(len(test)):\n",
    "\t\tmodel = ARIMA(history, order=arima_order)\n",
    "\t\tmodel_fit = model.fit(disp=0)\n",
    "\t\tyhat = model_fit.forecast()[0]\n",
    "\t\tpredictions.append(yhat)\n",
    "\t\thistory.append(test[t])\n",
    "\t# calculate out of sample error\n",
    "\terror = mean_squared_error(test, predictions)\n",
    "\treturn error\n",
    " \n",
    "# evaluate combinations of p, d and q values for an ARIMA model\n",
    "def evaluate_models(dataset, p_values, d_values, q_values):\n",
    "\tdataset = dataset.astype('float32')\n",
    "\tbest_score, best_cfg = float(\"inf\"), None\n",
    "\tfor p in p_values:\n",
    "\t\tfor d in d_values:\n",
    "\t\t\tfor q in q_values:\n",
    "\t\t\t\torder = (p,d,q)\n",
    "\t\t\t\ttry:\n",
    "\t\t\t\t\tmse = evaluate_arima_model(dataset, order)\n",
    "\t\t\t\t\tif mse < best_score:\n",
    "\t\t\t\t\t\tbest_score, best_cfg = mse, order\n",
    "\t\t\t\t\tprint('ARIMA%s MSE=%.3f' % (order,mse))\n",
    "\t\t\t\texcept:\n",
    "\t\t\t\t\tcontinue\n",
    "\tprint('Best ARIMA%s MSE=%.3f' % (best_cfg, best_score))\n",
    " \n",
    "# evaluate parameters\n",
    "p_values = [0, 1, 2, 4, 6, 8, 10]\n",
    "d_values = range(0, 3)\n",
    "q_values = range(0, 3)\n",
    "warnings.filterwarnings(\"ignore\")\n",
    "evaluate_models(Brazil.values, p_values, d_values, q_values)"
   ]
  },
  {
   "cell_type": "markdown",
   "metadata": {},
   "source": [
    "###### Data analysis for all countries"
   ]
  },
  {
   "cell_type": "code",
   "execution_count": 60,
   "metadata": {},
   "outputs": [],
   "source": [
    "dff3 = dff.drop( columns = [' UNIT_DESC', ' YEAR_ID', 'Nouns', ' TIMEPERIOD_ID', 'AMOUNT', 'Main_Desc'])\n",
    "top_10 = dff3.groupby(['GEOGRAPHY_DESC']).sum().reset_index()"
   ]
  },
  {
   "cell_type": "code",
   "execution_count": 61,
   "metadata": {},
   "outputs": [
    {
     "data": {
      "image/png": "[encoded data removed]",
      "text/plain": [
       "<Figure size 432x288 with 1 Axes>"
      ]
     },
     "metadata": {
      "needs_background": "light"
     },
     "output_type": "display_data"
    }
   ],
   "source": [
    "import matplotlib.pyplot as plt\n",
    "sorted_ = top_10.sort_values('Final_amount', ascending=False).head(10)\n",
    "sorted_ = sorted_[sorted_['GEOGRAPHY_DESC'] != 'World']\n",
    "sorted_.plot('GEOGRAPHY_DESC','Final_amount', kind = 'bar', title = 'Top 10 Countries by US Meat Export')\n",
    "plt.ylabel('Total Kilograms')\n",
    "plt.xlabel('')\n",
    "plt.xticks(rotation=45)\n",
    "plt.show()"
   ]
  },
  {
   "cell_type": "code",
   "execution_count": 62,
   "metadata": {},
   "outputs": [
    {
     "data": {
      "image/png": "[encoded data removed]",
      "text/plain": [
       "<Figure size 432x288 with 1 Axes>"
      ]
     },
     "metadata": {
      "needs_background": "light"
     },
     "output_type": "display_data"
    }
   ],
   "source": [
    "graph_by_items = dff['Nouns'].value_counts()\n",
    "fig, ax = plt.subplots()\n",
    "ax.tick_params(axis = 'x', labelsize = 10, rotation = 90)\n",
    "ax.tick_params(axis = 'y', labelsize = 10)\n",
    "ax.set_title('Top 10 Items of Export in Kilograms', fontsize = 15)\n",
    "plt.xticks(rotation=45)\n",
    "graph_by_items[:10].plot(ax=ax, kind='bar', color='blue')\n",
    "for tick in ax.get_xticklabels():\n",
    "    tick.set_rotation(45)"
   ]
  },
  {
   "cell_type": "markdown",
   "metadata": {},
   "source": [
    "###### Predicting the meat export from US to the world using ARIMA"
   ]
  },
  {
   "cell_type": "code",
   "execution_count": 63,
   "metadata": {},
   "outputs": [],
   "source": [
    "df_world = dff[dff['GEOGRAPHY_DESC'] == 'World']"
   ]
  },
  {
   "cell_type": "code",
   "execution_count": 64,
   "metadata": {},
   "outputs": [],
   "source": [
    "df_world_agg =  df_world.loc[:, (df_world.columns).isin([' YEAR_ID', 'Final_amount'])]\n",
    "df_world_agg1 = df_world_agg.groupby([' YEAR_ID']).agg(sum).reset_index()"
   ]
  },
  {
   "cell_type": "code",
   "execution_count": 65,
   "metadata": {},
   "outputs": [],
   "source": [
    "df_world_aggr2 = df_world_agg1.drop(df_world_agg1.tail(1).index) "
   ]
  },
  {
   "cell_type": "code",
   "execution_count": 66,
   "metadata": {},
   "outputs": [
    {
     "data": {
      "text/plain": [
       "[<matplotlib.lines.Line2D at 0x20829431e80>]"
      ]
     },
     "execution_count": 66,
     "metadata": {},
     "output_type": "execute_result"
    },
    {
     "data": {
      "image/png": "[encoded data removed]",
      "text/plain": [
       "<Figure size 432x288 with 1 Axes>"
      ]
     },
     "metadata": {
      "needs_background": "light"
     },
     "output_type": "display_data"
    }
   ],
   "source": [
    "plt.plot(range(1989,2019),df_world_aggr2['Final_amount'])"
   ]
  },
  {
   "cell_type": "code",
   "execution_count": 67,
   "metadata": {},
   "outputs": [
    {
     "name": "stdout",
     "output_type": "stream",
     "text": [
      "                              ARMA Model Results                              \n",
      "==============================================================================\n",
      "Dep. Variable:           Final_amount   No. Observations:                   30\n",
      "Model:                     ARMA(4, 0)   Log Likelihood                -628.257\n",
      "Method:                       css-mle   S.D. of innovations      283024774.070\n",
      "Date:                Sun, 13 Oct 2019   AIC                           1268.513\n",
      "Time:                        21:36:59   BIC                           1276.920\n",
      "Sample:                             0   HQIC                          1271.203\n",
      "                                                                              \n",
      "======================================================================================\n",
      "                         coef    std err          z      P>|z|      [0.025      0.975]\n",
      "--------------------------------------------------------------------------------------\n",
      "const               2.787e+09   1.32e+09      2.119      0.044    2.09e+08    5.37e+09\n",
      "ar.L1.Final_amount     1.1381      0.176      6.461      0.000       0.793       1.483\n",
      "ar.L2.Final_amount    -0.0990      0.278     -0.356      0.724      -0.644       0.445\n",
      "ar.L3.Final_amount     0.1338      0.273      0.490      0.628      -0.401       0.669\n",
      "ar.L4.Final_amount    -0.1979      0.181     -1.094      0.284      -0.552       0.157\n",
      "                                    Roots                                    \n",
      "=============================================================================\n",
      "                  Real          Imaginary           Modulus         Frequency\n",
      "-----------------------------------------------------------------------------\n",
      "AR.1            1.0498           -0.0000j            1.0498           -0.0000\n",
      "AR.2            1.4110           -0.0000j            1.4110           -0.0000\n",
      "AR.3           -0.8923           -1.6170j            1.8468           -0.3303\n",
      "AR.4           -0.8923           +1.6170j            1.8468            0.3303\n",
      "-----------------------------------------------------------------------------\n",
      "Residuals Description\n",
      "count    3.000000e+01\n",
      "mean     1.419146e+07\n",
      "std      4.626703e+08\n",
      "min     -1.980303e+09\n",
      "25%     -1.032867e+08\n",
      "50%      9.190706e+07\n",
      "75%      2.649538e+08\n",
      "max      7.799850e+08\n",
      "dtype: float64\n"
     ]
    }
   ],
   "source": [
    "model = ARIMA(df_world_aggr2['Final_amount'], order=(4,0,0))\n",
    "model_fit = model.fit()\n",
    "print(model_fit.summary())\n",
    "print('Residuals Description')\n",
    "print(model_fit.resid.describe())"
   ]
  },
  {
   "cell_type": "code",
   "execution_count": 68,
   "metadata": {},
   "outputs": [],
   "source": [
    "pred = model_fit.predict(start=len(df_world_aggr2['Final_amount']), end=len(df_world_aggr2['Final_amount']) + 1)\n",
    "pred2 = pd.DataFrame(columns = ['Final_amount', ' YEAR_ID'])\n",
    "pred2['Final_amount'] = pred\n",
    "pred2[' YEAR_ID'] = range(2019,2021)"
   ]
  },
  {
   "cell_type": "code",
   "execution_count": 69,
   "metadata": {},
   "outputs": [
    {
     "data": {
      "text/plain": [
       "0     8.070360e+08\n",
       "1     7.983359e+08\n",
       "2     1.085671e+09\n",
       "3     1.223402e+09\n",
       "4     1.275056e+09\n",
       "5     1.689907e+09\n",
       "6     1.993245e+09\n",
       "7     2.378915e+09\n",
       "8     2.218897e+09\n",
       "9     2.158636e+09\n",
       "10    2.140019e+09\n",
       "11    2.140021e+09\n",
       "12    2.340209e+09\n",
       "13    2.314884e+09\n",
       "14    2.422851e+09\n",
       "15    2.174734e+09\n",
       "16    2.514132e+09\n",
       "17    2.773567e+09\n",
       "18    3.068837e+09\n",
       "19    3.973741e+09\n",
       "20    3.653600e+09\n",
       "21    3.818390e+09\n",
       "22    4.368478e+09\n",
       "23    4.462165e+09\n",
       "24    4.358225e+09\n",
       "25    4.309254e+09\n",
       "26    3.937654e+09\n",
       "27    4.094074e+09\n",
       "28    4.471361e+09\n",
       "29    4.654870e+09\n",
       "Name: Final_amount, dtype: float64"
      ]
     },
     "execution_count": 69,
     "metadata": {},
     "output_type": "execute_result"
    }
   ],
   "source": [
    "df_world_aggr2['Final_amount']"
   ]
  },
  {
   "cell_type": "code",
   "execution_count": 70,
   "metadata": {},
   "outputs": [
    {
     "data": {
      "text/html": [
       "<div>\n",
       "<style scoped>\n",
       "    .dataframe tbody tr th:only-of-type {\n",
       "        vertical-align: middle;\n",
       "    }\n",
       "\n",
       "    .dataframe tbody tr th {\n",
       "        vertical-align: top;\n",
       "    }\n",
       "\n",
       "    .dataframe thead th {\n",
       "        text-align: right;\n",
       "    }\n",
       "</style>\n",
       "<table border=\"1\" class=\"dataframe\">\n",
       "  <thead>\n",
       "    <tr style=\"text-align: right;\">\n",
       "      <th></th>\n",
       "      <th>Final_amount</th>\n",
       "      <th>YEAR_ID</th>\n",
       "    </tr>\n",
       "  </thead>\n",
       "  <tbody>\n",
       "    <tr>\n",
       "      <th>30</th>\n",
       "      <td>4.693121e+09</td>\n",
       "      <td>2019</td>\n",
       "    </tr>\n",
       "    <tr>\n",
       "      <th>31</th>\n",
       "      <td>4.738009e+09</td>\n",
       "      <td>2020</td>\n",
       "    </tr>\n",
       "  </tbody>\n",
       "</table>\n",
       "</div>"
      ],
      "text/plain": [
       "    Final_amount   YEAR_ID\n",
       "30  4.693121e+09      2019\n",
       "31  4.738009e+09      2020"
      ]
     },
     "execution_count": 70,
     "metadata": {},
     "output_type": "execute_result"
    }
   ],
   "source": [
    "pred2"
   ]
  },
  {
   "cell_type": "markdown",
   "metadata": {},
   "source": [
    "##### Calculations"
   ]
  },
  {
   "cell_type": "markdown",
   "metadata": {},
   "source": [
    "##### Usage of water"
   ]
  },
  {
   "cell_type": "code",
   "execution_count": 71,
   "metadata": {},
   "outputs": [
    {
     "data": {
      "text/plain": [
       "9431130000.0"
      ]
     },
     "execution_count": 71,
     "metadata": {},
     "output_type": "execute_result"
    }
   ],
   "source": [
    "#total export of meat in mln kilograms for 2019 and 2020\n",
    "(4.693121e+09 + 4.738009e+09)"
   ]
  },
  {
   "cell_type": "code",
   "execution_count": 72,
   "metadata": {},
   "outputs": [
    {
     "data": {
      "text/plain": [
       "83139000.0"
      ]
     },
     "execution_count": 72,
     "metadata": {},
     "output_type": "execute_result"
    }
   ],
   "source": [
    "(4.738009e+09 - 4.693121e+09) + (4.693121e+09 - 4.654870e+09)"
   ]
  },
  {
   "cell_type": "code",
   "execution_count": 73,
   "metadata": {},
   "outputs": [
    {
     "data": {
      "text/plain": [
       "344259000000.0"
      ]
     },
     "execution_count": 73,
     "metadata": {},
     "output_type": "execute_result"
    }
   ],
   "source": [
    "#the difference between 2019 and 2018 in billion of litres of water\n",
    "(4.693121e+09 - 4.654870e+09) * 9000"
   ]
  },
  {
   "cell_type": "code",
   "execution_count": 74,
   "metadata": {},
   "outputs": [
    {
     "data": {
      "text/plain": [
       "42238089000000.0"
      ]
     },
     "execution_count": 74,
     "metadata": {},
     "output_type": "execute_result"
    }
   ],
   "source": [
    "#total litres in 2019 trillion\n",
    "4.693121e+09*9000"
   ]
  },
  {
   "cell_type": "code",
   "execution_count": 75,
   "metadata": {},
   "outputs": [
    {
     "data": {
      "text/plain": [
       "42642081000000.0"
      ]
     },
     "execution_count": 75,
     "metadata": {},
     "output_type": "execute_result"
    }
   ],
   "source": [
    "#total litres in 2020\n",
    "4.738009e+09 * 9000"
   ]
  },
  {
   "cell_type": "markdown",
   "metadata": {},
   "source": [
    "344 bilion litres of water more for 2019 compared to 2018"
   ]
  },
  {
   "cell_type": "code",
   "execution_count": 76,
   "metadata": {},
   "outputs": [
    {
     "data": {
      "text/plain": [
       "403992000000.0"
      ]
     },
     "execution_count": 76,
     "metadata": {},
     "output_type": "execute_result"
    }
   ],
   "source": [
    "(4.738009e+09 - 4.693121e+09) * 9000"
   ]
  },
  {
   "cell_type": "markdown",
   "metadata": {},
   "source": [
    "403 bilion litres for 2020 compared to 2019\n",
    "\n",
    "total 707 bilion litres more compared to the figure in 2018"
   ]
  },
  {
   "cell_type": "markdown",
   "metadata": {},
   "source": [
    "###### Usage of land"
   ]
  },
  {
   "cell_type": "markdown",
   "metadata": {},
   "source": [
    "50 sq metres per kilo of meat"
   ]
  },
  {
   "cell_type": "code",
   "execution_count": 77,
   "metadata": {},
   "outputs": [
    {
     "data": {
      "text/plain": [
       "1912550000.0"
      ]
     },
     "execution_count": 77,
     "metadata": {},
     "output_type": "execute_result"
    }
   ],
   "source": [
    "(4.693121e+09 - 4.654870e+09) * 50"
   ]
  },
  {
   "cell_type": "code",
   "execution_count": 78,
   "metadata": {},
   "outputs": [
    {
     "data": {
      "text/plain": [
       "1912.55"
      ]
     },
     "execution_count": 78,
     "metadata": {},
     "output_type": "execute_result"
    }
   ],
   "source": [
    "1912550000.0 / (1 * 1000 * 1000)"
   ]
  },
  {
   "cell_type": "markdown",
   "metadata": {},
   "source": [
    "1912 $km^{2}$ for 2019 more than the land usage in 2018"
   ]
  },
  {
   "cell_type": "code",
   "execution_count": 79,
   "metadata": {},
   "outputs": [
    {
     "data": {
      "text/plain": [
       "2244.4"
      ]
     },
     "execution_count": 79,
     "metadata": {},
     "output_type": "execute_result"
    }
   ],
   "source": [
    "(4.738009e+09 - 4.693121e+09) * 50 / (1 * 1000 * 1000)"
   ]
  },
  {
   "cell_type": "markdown",
   "metadata": {},
   "source": [
    "In 2020 we will need 2244 $km^{2}$ more land than in 2019 "
   ]
  },
  {
   "cell_type": "markdown",
   "metadata": {},
   "source": [
    "1912 + 2244 = 4156 $km^{2}$ additional land compared to 2018"
   ]
  },
  {
   "cell_type": "markdown",
   "metadata": {},
   "source": [
    "###### Gridsearch World + LSTM"
   ]
  },
  {
   "cell_type": "code",
   "execution_count": 80,
   "metadata": {},
   "outputs": [],
   "source": [
    "  \n",
    "df_world_aggr2.index = df_world_aggr2[' YEAR_ID']\n",
    "pred2.index = pred2[' YEAR_ID']\n",
    "df_all = pd.merge(df_world_aggr2['Final_amount'], pred2['Final_amount'], \n",
    "                  how = 'outer', left_index=True, right_index=True)\n"
   ]
  },
  {
   "cell_type": "code",
   "execution_count": 81,
   "metadata": {},
   "outputs": [
    {
     "data": {
      "text/plain": [
       "<matplotlib.axes._subplots.AxesSubplot at 0x2081d8e6f28>"
      ]
     },
     "execution_count": 81,
     "metadata": {},
     "output_type": "execute_result"
    },
    {
     "data": {
      "image/png": "[encoded data removed]",
      "text/plain": [
       "<Figure size 432x288 with 1 Axes>"
      ]
     },
     "metadata": {
      "needs_background": "light"
     },
     "output_type": "display_data"
    }
   ],
   "source": [
    "import math\n",
    "\n",
    "for i in df_all.index:\n",
    "    if math.isnan(df_all.loc[i, 'Final_amount_x']):\n",
    "        df_all.loc[i, 'Final_amount_x'] = df_all.loc[i, 'Final_amount_y']\n",
    "df_all.plot()"
   ]
  },
  {
   "cell_type": "code",
   "execution_count": 82,
   "metadata": {},
   "outputs": [
    {
     "name": "stdout",
     "output_type": "stream",
     "text": [
      "ARIMA(0, 0, 0) MSE=2994686773033170944.000\n",
      "ARIMA(0, 0, 1) MSE=1081056682988112384.000\n",
      "ARIMA(0, 1, 0) MSE=631997201646556416.000\n",
      "ARIMA(0, 1, 1) MSE=645816457067651200.000\n",
      "ARIMA(0, 1, 2) MSE=639783335991928704.000\n",
      "ARIMA(0, 2, 0) MSE=834453192242998272.000\n",
      "ARIMA(0, 2, 1) MSE=758256041312238464.000\n",
      "ARIMA(1, 0, 0) MSE=563139925193340096.000\n",
      "ARIMA(1, 1, 0) MSE=652416798169466112.000\n",
      "ARIMA(1, 2, 0) MSE=845311901556741632.000\n",
      "ARIMA(2, 0, 0) MSE=618383846142263168.000\n",
      "ARIMA(2, 1, 0) MSE=649492920337055104.000\n",
      "ARIMA(2, 1, 1) MSE=700428467219433088.000\n",
      "ARIMA(2, 2, 0) MSE=784159934176890112.000\n",
      "ARIMA(2, 2, 1) MSE=794453738377408384.000\n",
      "ARIMA(4, 0, 0) MSE=685699419637442432.000\n",
      "ARIMA(4, 1, 0) MSE=736361277206629504.000\n",
      "ARIMA(4, 1, 1) MSE=781326347649212800.000\n",
      "ARIMA(4, 2, 0) MSE=825799417238415488.000\n",
      "ARIMA(6, 1, 0) MSE=830865191875646976.000\n",
      "ARIMA(6, 2, 0) MSE=834627554217880192.000\n",
      "Best ARIMA(1, 0, 0) MSE=563139925193340096.000\n"
     ]
    }
   ],
   "source": [
    "df_world_agg12 = df_world_agg1.drop(columns = ' YEAR_ID')\n",
    "df_world_agg12.to_csv(r'C:\\Users\\Kristine\\Downloads\\export_dataframe12.csv', index=True)\n",
    "World = pd.read_csv('export_dataframe12.csv', header=0, index_col=0)\n",
    " \n",
    "# evaluate an ARIMA model for a given order (p,d,q)\n",
    "def evaluate_arima_model(X, arima_order):\n",
    "\t# prepare training dataset\n",
    "\ttrain_size = int(len(X) * 0.66)\n",
    "\ttrain, test = X[0:train_size], X[train_size:]\n",
    "\thistory = [x for x in train]\n",
    "\t# make predictions\n",
    "\tpredictions = list()\n",
    "\tfor t in range(len(test)):\n",
    "\t\tmodel = ARIMA(history, order=arima_order)\n",
    "\t\tmodel_fit = model.fit(disp=0)\n",
    "\t\tyhat = model_fit.forecast()[0]\n",
    "\t\tpredictions.append(yhat)\n",
    "\t\thistory.append(test[t])\n",
    "\t# calculate out of sample error\n",
    "\terror = mean_squared_error(test, predictions)\n",
    "\treturn error\n",
    " \n",
    "# evaluate combinations of p, d and q values for an ARIMA model\n",
    "def evaluate_models(dataset, p_values, d_values, q_values):\n",
    "\tdataset = dataset.astype('float32')\n",
    "\tbest_score, best_cfg = float(\"inf\"), None\n",
    "\tfor p in p_values:\n",
    "\t\tfor d in d_values:\n",
    "\t\t\tfor q in q_values:\n",
    "\t\t\t\torder = (p,d,q)\n",
    "\t\t\t\ttry:\n",
    "\t\t\t\t\tmse = evaluate_arima_model(dataset, order)\n",
    "\t\t\t\t\tif mse < best_score:\n",
    "\t\t\t\t\t\tbest_score, best_cfg = mse, order\n",
    "\t\t\t\t\tprint('ARIMA%s MSE=%.3f' % (order,mse))\n",
    "\t\t\t\texcept:\n",
    "\t\t\t\t\tcontinue\n",
    "\tprint('Best ARIMA%s MSE=%.3f' % (best_cfg, best_score))\n",
    " \n",
    "# evaluate parameters\n",
    "p_values = [0, 1, 2, 4, 6, 8, 10]\n",
    "d_values = range(0, 3)\n",
    "q_values = range(0, 3)\n",
    "warnings.filterwarnings(\"ignore\")\n",
    "evaluate_models(World.values, p_values, d_values, q_values)"
   ]
  },
  {
   "cell_type": "code",
   "execution_count": 83,
   "metadata": {},
   "outputs": [
    {
     "name": "stdout",
     "output_type": "stream",
     "text": [
      "Epoch 1/100\n",
      " - 3s - loss: 0.1446\n",
      "Epoch 2/100\n",
      " - 0s - loss: 0.1211\n",
      "Epoch 3/100\n",
      " - 0s - loss: 0.0981\n",
      "Epoch 4/100\n",
      " - 0s - loss: 0.0816\n",
      "Epoch 5/100\n",
      " - 0s - loss: 0.0645\n",
      "Epoch 6/100\n",
      " - 0s - loss: 0.0517\n",
      "Epoch 7/100\n",
      " - 0s - loss: 0.0416\n",
      "Epoch 8/100\n",
      " - 0s - loss: 0.0332\n",
      "Epoch 9/100\n",
      " - 0s - loss: 0.0273\n",
      "Epoch 10/100\n",
      " - 0s - loss: 0.0234\n",
      "Epoch 11/100\n",
      " - 0s - loss: 0.0207\n",
      "Epoch 12/100\n",
      " - 0s - loss: 0.0188\n",
      "Epoch 13/100\n",
      " - 0s - loss: 0.0178\n",
      "Epoch 14/100\n",
      " - 0s - loss: 0.0171\n",
      "Epoch 15/100\n",
      " - 0s - loss: 0.0168\n",
      "Epoch 16/100\n",
      " - 0s - loss: 0.0163\n",
      "Epoch 17/100\n",
      " - 0s - loss: 0.0160\n",
      "Epoch 18/100\n",
      " - 0s - loss: 0.0156\n",
      "Epoch 19/100\n",
      " - 0s - loss: 0.0154\n",
      "Epoch 20/100\n",
      " - 0s - loss: 0.0151\n",
      "Epoch 21/100\n",
      " - 0s - loss: 0.0148\n",
      "Epoch 22/100\n",
      " - 0s - loss: 0.0147\n",
      "Epoch 23/100\n",
      " - 0s - loss: 0.0143\n",
      "Epoch 24/100\n",
      " - 0s - loss: 0.0139\n",
      "Epoch 25/100\n",
      " - 0s - loss: 0.0136\n",
      "Epoch 26/100\n",
      " - 0s - loss: 0.0133\n",
      "Epoch 27/100\n",
      " - 0s - loss: 0.0133\n",
      "Epoch 28/100\n",
      " - 0s - loss: 0.0128\n",
      "Epoch 29/100\n",
      " - 0s - loss: 0.0125\n",
      "Epoch 30/100\n",
      " - 0s - loss: 0.0123\n",
      "Epoch 31/100\n",
      " - 0s - loss: 0.0121\n",
      "Epoch 32/100\n",
      " - 0s - loss: 0.0119\n",
      "Epoch 33/100\n",
      " - 0s - loss: 0.0114\n",
      "Epoch 34/100\n",
      " - 0s - loss: 0.0113\n",
      "Epoch 35/100\n",
      " - 0s - loss: 0.0109\n",
      "Epoch 36/100\n",
      " - 0s - loss: 0.0108\n",
      "Epoch 37/100\n",
      " - 0s - loss: 0.0105\n",
      "Epoch 38/100\n",
      " - 0s - loss: 0.0103\n",
      "Epoch 39/100\n",
      " - 0s - loss: 0.0101\n",
      "Epoch 40/100\n",
      " - 0s - loss: 0.0098\n",
      "Epoch 41/100\n",
      " - 0s - loss: 0.0096\n",
      "Epoch 42/100\n",
      " - 0s - loss: 0.0094\n",
      "Epoch 43/100\n",
      " - 0s - loss: 0.0093\n",
      "Epoch 44/100\n",
      " - 0s - loss: 0.0090\n",
      "Epoch 45/100\n",
      " - 0s - loss: 0.0088\n",
      "Epoch 46/100\n",
      " - 0s - loss: 0.0087\n",
      "Epoch 47/100\n",
      " - 0s - loss: 0.0085\n",
      "Epoch 48/100\n",
      " - 0s - loss: 0.0083\n",
      "Epoch 49/100\n",
      " - 0s - loss: 0.0082\n",
      "Epoch 50/100\n",
      " - 0s - loss: 0.0081\n",
      "Epoch 51/100\n",
      " - 0s - loss: 0.0079\n",
      "Epoch 52/100\n",
      " - 0s - loss: 0.0077\n",
      "Epoch 53/100\n",
      " - 0s - loss: 0.0077\n",
      "Epoch 54/100\n",
      " - 0s - loss: 0.0076\n",
      "Epoch 55/100\n",
      " - 0s - loss: 0.0073\n",
      "Epoch 56/100\n",
      " - 0s - loss: 0.0072\n",
      "Epoch 57/100\n",
      " - 0s - loss: 0.0071\n",
      "Epoch 58/100\n",
      " - 0s - loss: 0.0069\n",
      "Epoch 59/100\n",
      " - 0s - loss: 0.0068\n",
      "Epoch 60/100\n",
      " - 0s - loss: 0.0067\n",
      "Epoch 61/100\n",
      " - 0s - loss: 0.0067\n",
      "Epoch 62/100\n",
      " - 0s - loss: 0.0065\n",
      "Epoch 63/100\n",
      " - 0s - loss: 0.0064\n",
      "Epoch 64/100\n",
      " - 0s - loss: 0.0063\n",
      "Epoch 65/100\n",
      " - 0s - loss: 0.0063\n",
      "Epoch 66/100\n",
      " - 0s - loss: 0.0062\n",
      "Epoch 67/100\n",
      " - 0s - loss: 0.0062\n",
      "Epoch 68/100\n",
      " - 0s - loss: 0.0061\n",
      "Epoch 69/100\n",
      " - 0s - loss: 0.0060\n",
      "Epoch 70/100\n",
      " - 0s - loss: 0.0062\n",
      "Epoch 71/100\n",
      " - 0s - loss: 0.0058\n",
      "Epoch 72/100\n",
      " - 0s - loss: 0.0060\n",
      "Epoch 73/100\n",
      " - 0s - loss: 0.0058\n",
      "Epoch 74/100\n",
      " - 0s - loss: 0.0057\n",
      "Epoch 75/100\n",
      " - 0s - loss: 0.0057\n",
      "Epoch 76/100\n",
      " - 0s - loss: 0.0057\n",
      "Epoch 77/100\n",
      " - 0s - loss: 0.0056\n",
      "Epoch 78/100\n",
      " - 0s - loss: 0.0056\n",
      "Epoch 79/100\n",
      " - 0s - loss: 0.0055\n",
      "Epoch 80/100\n",
      " - 0s - loss: 0.0055\n",
      "Epoch 81/100\n",
      " - 0s - loss: 0.0055\n",
      "Epoch 82/100\n",
      " - 0s - loss: 0.0055\n",
      "Epoch 83/100\n",
      " - 0s - loss: 0.0055\n",
      "Epoch 84/100\n",
      " - 0s - loss: 0.0054\n",
      "Epoch 85/100\n",
      " - 0s - loss: 0.0054\n",
      "Epoch 86/100\n",
      " - 0s - loss: 0.0055\n",
      "Epoch 87/100\n",
      " - 0s - loss: 0.0053\n",
      "Epoch 88/100\n",
      " - 0s - loss: 0.0056\n",
      "Epoch 89/100\n",
      " - 0s - loss: 0.0053\n",
      "Epoch 90/100\n",
      " - 0s - loss: 0.0053\n",
      "Epoch 91/100\n",
      " - 0s - loss: 0.0053\n",
      "Epoch 92/100\n",
      " - 0s - loss: 0.0053\n",
      "Epoch 93/100\n",
      " - 0s - loss: 0.0052\n",
      "Epoch 94/100\n",
      " - 0s - loss: 0.0052\n",
      "Epoch 95/100\n",
      " - 0s - loss: 0.0053\n",
      "Epoch 96/100\n",
      " - 0s - loss: 0.0054\n",
      "Epoch 97/100\n",
      " - 0s - loss: 0.0052\n",
      "Epoch 98/100\n",
      " - 0s - loss: 0.0052\n",
      "Epoch 99/100\n",
      " - 0s - loss: 0.0053\n",
      "Epoch 100/100\n",
      " - 0s - loss: 0.0052\n",
      "Train Score: 281817170.75 RMSE\n",
      "Test Score: 266936215.50 RMSE\n"
     ]
    },
    {
     "data": {
      "image/png": "[encoded data removed]",
      "text/plain": [
       "<Figure size 432x288 with 1 Axes>"
      ]
     },
     "metadata": {
      "needs_background": "light"
     },
     "output_type": "display_data"
    }
   ],
   "source": [
    "pred11 = model_fit.predict(start=len(df_world_aggr2['Final_amount']), end=len(df_world_aggr2['Final_amount']) + 2)\n",
    "pred22 = pd.DataFrame(columns = ['Final_amount', ' YEAR_ID'])\n",
    "pred22['Final_amount'] = pred11\n",
    "pred22[' YEAR_ID'] = range(2019,2022)\n",
    "df_lstm = df_world_aggr2.reset_index(drop = True)\n",
    "df_lstm = df_lstm.drop(columns = ' YEAR_ID')\n",
    "df_next5_ = pred22.drop(columns = ' YEAR_ID')\n",
    "df_lstm1 = pd.concat([df_lstm, df_next5_])\n",
    "\n",
    "# convert an array of values into a dataset matrix\n",
    "def create_dataset(dataset, look_back=1):\n",
    "\tdataX, dataY = [], []\n",
    "\tfor i in range(len(dataset)-look_back-1):\n",
    "\t\ta = dataset[i:(i+look_back), 0]\n",
    "\t\tdataX.append(a)\n",
    "\t\tdataY.append(dataset[i + look_back, 0])\n",
    "\treturn numpy.array(dataX), numpy.array(dataY)\n",
    "# fix random seed for reproducibility\n",
    "numpy.random.seed(7)\n",
    "# load the dataset\n",
    "dataframe = df_lstm1\n",
    "dataset = dataframe.values\n",
    "dataset = dataset.astype('float32')\n",
    "# normalize the dataset\n",
    "scaler = MinMaxScaler(feature_range=(0, 1))\n",
    "dataset = scaler.fit_transform(dataset)\n",
    "# split into train and test sets\n",
    "train_size = int(len(dataset) * 0.67)\n",
    "test_size = len(dataset) - train_size\n",
    "train, test = dataset[0:train_size,:], dataset[train_size:len(dataset),:]\n",
    "# reshape into X=t and Y=t+1\n",
    "look_back = 2\n",
    "trainX, trainY = create_dataset(train, look_back)\n",
    "testX, testY = create_dataset(test, look_back)\n",
    "# reshape input to be [samples, time steps, features]\n",
    "trainX = numpy.reshape(trainX, (trainX.shape[0], trainX.shape[1], 1))\n",
    "testX = numpy.reshape(testX, (testX.shape[0], testX.shape[1], 1))\n",
    "# create and fit the LSTM network\n",
    "model = Sequential()\n",
    "model.add(LSTM(4, input_shape=(look_back, 1)))\n",
    "model.add(Dense(1))\n",
    "model.compile(loss='mean_squared_error', optimizer='adam')\n",
    "model.fit(trainX, trainY, epochs=100, batch_size=1, verbose=2)\n",
    "# make predictions\n",
    "trainPredict = model.predict(trainX)\n",
    "testPredict = model.predict(testX)\n",
    "# invert predictions\n",
    "trainPredict = scaler.inverse_transform(trainPredict)\n",
    "trainY = scaler.inverse_transform([trainY])\n",
    "testPredict = scaler.inverse_transform(testPredict)\n",
    "testY = scaler.inverse_transform([testY])\n",
    "# calculate root mean squared error\n",
    "trainScore = math.sqrt(mean_squared_error(trainY[0], trainPredict[:,0]))\n",
    "print('Train Score: %.2f RMSE' % (trainScore))\n",
    "testScore = math.sqrt(mean_squared_error(testY[0], testPredict[:,0]))\n",
    "print('Test Score: %.2f RMSE' % (testScore))\n",
    "# shift train predictions for plotting\n",
    "trainPredictPlot = numpy.empty_like(dataset)\n",
    "trainPredictPlot[:, :] = numpy.nan\n",
    "trainPredictPlot[look_back:len(trainPredict)+look_back, :] = trainPredict\n",
    "# shift test predictions for plotting\n",
    "testPredictPlot = numpy.empty_like(dataset)\n",
    "testPredictPlot[:, :] = numpy.nan\n",
    "testPredictPlot[len(trainPredict)+(look_back*2)+1:len(dataset)-1, :] = testPredict\n",
    "# plot baseline and predictions\n",
    "plt.plot(range(1989,2022),scaler.inverse_transform(dataset))\n",
    "plt.plot(range(1989,2022),trainPredictPlot)\n",
    "plt.plot(range(1989,2022),testPredictPlot)\n",
    "plt.show()\n"
   ]
  },
  {
   "cell_type": "markdown",
   "metadata": {},
   "source": [
    "### Analysis of the Predictions"
   ]
  },
  {
   "cell_type": "markdown",
   "metadata": {},
   "source": [
    "###### Bulgaria – the import from USA will rise during the next 3 years. We see that since 2009 there was not import of pork from the US but from 2018 till mid 2019 in total there were 23 tonnes of pork imported from the US. This might be as a result of the recent swine fever that affected the pig agriculture in many countries in the Eastern Europe.\n",
    "\n",
    "###### Brazil – the import of meat is decreasing during the next 3 years which might mean that they started producing their own meat. If this is true, Brazil needs more land in order to fulfill their demand. Amazon fires – on purpose or a convenient coincidence?\n",
    "\n",
    "###### World – the export of meat is rising during the next 2 years. This is concerning because as we saw that 41% of the land in the US is used for agricultural purpose. The percentage will rise even further.\n"
   ]
  },
  {
   "cell_type": "markdown",
   "metadata": {},
   "source": [
    "### Conclusion"
   ]
  },
  {
   "cell_type": "markdown",
   "metadata": {},
   "source": [
    "##### For 2019 and 2020 the world will import total of 9 billion kg of meat from the US – 4.69 billion in 2019 and 4.73 billion in 2020. This is in total  83 million kilograms more than in  2018.\n",
    "##### In 2019 the meat export from the Us will require the use of 42.2 trillion litres of water whereas in 2020 it is predicted to be even more – 42.6 trillion litres. This is in total 707 billion litres more compared to the numbers in 2018.\n",
    "##### For 2019 and 2020 the world will need total of 4156 km2 more land to produce the demanded meat.\n",
    "\n"
   ]
  },
  {
   "cell_type": "code",
   "execution_count": null,
   "metadata": {},
   "outputs": [],
   "source": []
  }
 ],
 "metadata": {
  "kernelspec": {
   "display_name": "Python 3",
   "language": "python",
   "name": "python3"
  },
  "language_info": {
   "codemirror_mode": {
    "name": "ipython",
    "version": 3
   },
   "file_extension": ".py",
   "mimetype": "text/x-python",
   "name": "python",
   "nbconvert_exporter": "python",
   "pygments_lexer": "ipython3",
   "version": "3.7.3"
  }
 },
 "nbformat": 4,
 "nbformat_minor": 2
}
